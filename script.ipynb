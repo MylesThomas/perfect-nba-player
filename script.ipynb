{
 "cells": [
  {
   "attachments": {},
   "cell_type": "markdown",
   "id": "40a0e779",
   "metadata": {},
   "source": [
    "#  Prompt: \n",
    "\n",
    "We are looking to build the perfect basketball player. To me, that's Lebron athleticism, Steph’s shooting, Magic Johnson Passing, and Kawhi Leonard defense. Build your perfect player from the last 12 years of players and produce 20 games stat lines (Just PTS, AST, and TRB will do but feel free to add more). Provide visualization to support how this player performed in the 20 games. Again feel free to be creative with your approach. "
   ]
  },
  {
   "attachments": {},
   "cell_type": "markdown",
   "id": "3ea32cd6",
   "metadata": {},
   "source": [
    "# 0 - Introduction\n",
    "\n",
    "As the prompt states, this hypothetical player needs to be 'Elite' in the following:\n",
    "\n",
    "- athleticism\n",
    "\n",
    "- shooting\n",
    "\n",
    "- passing\n",
    "\n",
    "- defense\n",
    "\n",
    "Here is how I will measure those 4 attributes using box score data:\n",
    "\n",
    "#### Athleticism:\n",
    "\n",
    "- 2pt FGA\n",
    "\n",
    "- 2pt FG%\n",
    "\n",
    "- rebounds\n",
    "\n",
    "- blocks\n",
    "\n",
    "- steals\n",
    "\n",
    "- FTA\n",
    "\n",
    "Typically athletic players can get to the rim and score with high volume AND accuracy. I do not see another offensive metric that is a competent predictor for sheer athleticism.\n",
    "\n",
    "Taller/more athletic players are more likely to block shots and grab rebounds.\n",
    "\n",
    "Quicker/more athletic players are more likely to get steals\n",
    "\n",
    "Athletic players typically get fouled and go to the line often.\n",
    "\n",
    "(This one was tougher due to the fact we don't have information on dunks or any events like that in the game that typically only the most athletic players achieve)\n",
    "\n",
    "\n",
    "#### Shooting:\n",
    "\n",
    "- 3pt FGA\n",
    "\n",
    "- 3pt FG %\n",
    "\n",
    "- FT %\n",
    "\n",
    "Great shooters have high volume AND high accuracy. \n",
    "\n",
    "FT% is also typically a very good predictor of a player's overall shooting ability.\n",
    "\n",
    "#### Passing:\n",
    "\n",
    "- assists\n",
    "\n",
    "- assist to turnover ratio \n",
    "\n",
    "Assists is intuitive. \n",
    "\n",
    "AST/TO Ratio is not the best way for truly measuring a passer's ability, but the best I can do with box score data.\n",
    "\n",
    "#### Defense:\n",
    "\n",
    "- steals\n",
    "\n",
    "- blocks\n",
    "\n",
    "This is self explanatory. They are not the best predictors, but these are the only 2 box score metrics that refer to a player's defensive impact."
   ]
  },
  {
   "attachments": {},
   "cell_type": "markdown",
   "id": "d6cbfcee",
   "metadata": {},
   "source": [
    "### How I am going to generate the performance metrics:\n",
    "\n",
    "Considering our player is elite in all of these aspects, he should be putting up outputs similar to those of the elite's in today's game right now. \n",
    "\n",
    "I will 'simulate' these games by using the historical data as a distribution and randomly making draws for each measure. \n",
    "\n",
    "I will repeat the following for each measure:\n",
    "\n",
    " "
   ]
  },
  {
   "attachments": {},
   "cell_type": "markdown",
   "id": "d87e26fd",
   "metadata": {},
   "source": [
    "1. Grab a subset of the data that represents the game results of players who are elite in that measure ie. for 3P% this subset will consist of players among the likes of Steph Curry, Klay Thompson, Damian Lillard\n",
    "\n",
    "- Elite = A season in which that player was 95th-99th percentile in that metric on a per game basis. Season is used because we only want the times where that player was elite in the measure, ie. if we were looking at Kobe Bryant's career and the variable of interest is FG Made, I want to sample from a subset that includes the prime seasons where Kobe was elite (Around 10 FGM/game), but not the seasons where he was a rookie/not elite at scoring, or the seasons where he tailed off and was not longer elite at scoring.\n",
    "\n",
    "2. Generate 20 random draws from this distribution. These will be the simulated box score numbers for the 20 games.\n",
    "\n",
    "- ie. for 3P FGM, a 99th percentile outcome would be 14 (NBA Record), a 1st percentile outcome would be 0.\n",
    "\n",
    "- I will use a 90% confidence interval ie. picking values from the 5th percentile box score result up to the 95th"
   ]
  },
  {
   "attachments": {},
   "cell_type": "markdown",
   "id": "f9535903",
   "metadata": {},
   "source": [
    "After getting these values for each measure, I will use the results to end up with Pts/Reb/Assists, and more.\n",
    "\n",
    "Let's get started."
   ]
  },
  {
   "cell_type": "code",
   "execution_count": 484,
   "id": "cd23b11c",
   "metadata": {},
   "outputs": [
    {
     "data": {
      "text/html": [
       "<div>\n",
       "<style scoped>\n",
       "    .dataframe tbody tr th:only-of-type {\n",
       "        vertical-align: middle;\n",
       "    }\n",
       "\n",
       "    .dataframe tbody tr th {\n",
       "        vertical-align: top;\n",
       "    }\n",
       "\n",
       "    .dataframe thead th {\n",
       "        text-align: right;\n",
       "    }\n",
       "</style>\n",
       "<table border=\"1\" class=\"dataframe\">\n",
       "  <thead>\n",
       "    <tr style=\"text-align: right;\">\n",
       "      <th></th>\n",
       "      <th>uuid</th>\n",
       "      <th>first_name</th>\n",
       "      <th>last_name</th>\n",
       "      <th>canonical</th>\n",
       "      <th>id</th>\n",
       "      <th>season</th>\n",
       "      <th>rk</th>\n",
       "      <th>g</th>\n",
       "      <th>date</th>\n",
       "      <th>age</th>\n",
       "      <th>...</th>\n",
       "      <th>trb</th>\n",
       "      <th>ast</th>\n",
       "      <th>stl</th>\n",
       "      <th>blk</th>\n",
       "      <th>tov</th>\n",
       "      <th>pf</th>\n",
       "      <th>pts</th>\n",
       "      <th>gmsc</th>\n",
       "      <th>plus_minus</th>\n",
       "      <th>full_name</th>\n",
       "    </tr>\n",
       "  </thead>\n",
       "  <tbody>\n",
       "    <tr>\n",
       "      <th>0</th>\n",
       "      <td>c53051d9-767b-4177-921e-3ff8185e68d3</td>\n",
       "      <td>Álex</td>\n",
       "      <td>Abrines</td>\n",
       "      <td>abrinal01</td>\n",
       "      <td>6429</td>\n",
       "      <td>2017-18</td>\n",
       "      <td>53</td>\n",
       "      <td>47</td>\n",
       "      <td>2/2/2018</td>\n",
       "      <td>24-185</td>\n",
       "      <td>...</td>\n",
       "      <td>1</td>\n",
       "      <td>0</td>\n",
       "      <td>0</td>\n",
       "      <td>0</td>\n",
       "      <td>0</td>\n",
       "      <td>3</td>\n",
       "      <td>14</td>\n",
       "      <td>9.1</td>\n",
       "      <td>5</td>\n",
       "      <td>Álex Abrines</td>\n",
       "    </tr>\n",
       "    <tr>\n",
       "      <th>1</th>\n",
       "      <td>c53051d9-767b-4177-921e-3ff8185e68d3</td>\n",
       "      <td>Álex</td>\n",
       "      <td>Abrines</td>\n",
       "      <td>abrinal01</td>\n",
       "      <td>6428</td>\n",
       "      <td>2017-18</td>\n",
       "      <td>52</td>\n",
       "      <td>46</td>\n",
       "      <td>2/1/2018</td>\n",
       "      <td>24-184</td>\n",
       "      <td>...</td>\n",
       "      <td>2</td>\n",
       "      <td>1</td>\n",
       "      <td>0</td>\n",
       "      <td>2</td>\n",
       "      <td>1</td>\n",
       "      <td>1</td>\n",
       "      <td>13</td>\n",
       "      <td>10.6</td>\n",
       "      <td>-1</td>\n",
       "      <td>Álex Abrines</td>\n",
       "    </tr>\n",
       "    <tr>\n",
       "      <th>2</th>\n",
       "      <td>c53051d9-767b-4177-921e-3ff8185e68d3</td>\n",
       "      <td>Álex</td>\n",
       "      <td>Abrines</td>\n",
       "      <td>abrinal01</td>\n",
       "      <td>6410</td>\n",
       "      <td>2017-18</td>\n",
       "      <td>30</td>\n",
       "      <td>28</td>\n",
       "      <td>12/18/2017</td>\n",
       "      <td>24-139</td>\n",
       "      <td>...</td>\n",
       "      <td>5</td>\n",
       "      <td>0</td>\n",
       "      <td>1</td>\n",
       "      <td>0</td>\n",
       "      <td>0</td>\n",
       "      <td>1</td>\n",
       "      <td>11</td>\n",
       "      <td>12.2</td>\n",
       "      <td>2</td>\n",
       "      <td>Álex Abrines</td>\n",
       "    </tr>\n",
       "  </tbody>\n",
       "</table>\n",
       "<p>3 rows × 37 columns</p>\n",
       "</div>"
      ],
      "text/plain": [
       "                                   uuid first_name last_name  canonical    id   \n",
       "0  c53051d9-767b-4177-921e-3ff8185e68d3       Álex   Abrines  abrinal01  6429  \\\n",
       "1  c53051d9-767b-4177-921e-3ff8185e68d3       Álex   Abrines  abrinal01  6428   \n",
       "2  c53051d9-767b-4177-921e-3ff8185e68d3       Álex   Abrines  abrinal01  6410   \n",
       "\n",
       "    season  rk   g        date     age  ... trb ast stl blk  tov pf  pts   \n",
       "0  2017-18  53  47    2/2/2018  24-185  ...   1   0   0   0    0  3   14  \\\n",
       "1  2017-18  52  46    2/1/2018  24-184  ...   2   1   0   2    1  1   13   \n",
       "2  2017-18  30  28  12/18/2017  24-139  ...   5   0   1   0    0  1   11   \n",
       "\n",
       "   gmsc  plus_minus     full_name  \n",
       "0   9.1           5  Álex Abrines  \n",
       "1  10.6          -1  Álex Abrines  \n",
       "2  12.2           2  Álex Abrines  \n",
       "\n",
       "[3 rows x 37 columns]"
      ]
     },
     "execution_count": 484,
     "metadata": {},
     "output_type": "execute_result"
    }
   ],
   "source": [
    "# Load libraries\n",
    "import pandas as pd\n",
    "import numpy as np\n",
    "import matplotlib.pyplot as plt\n",
    "#%matplotlib inline\n",
    "import seaborn as sns\n",
    "import random\n",
    "import statistics\n",
    "import warnings\n",
    "import os\n",
    "import plotly.graph_objects as go\n",
    "warnings.filterwarnings('ignore')\n",
    "\n",
    "# Options\n",
    "#pd.set_option('max_columns', None)\n",
    "pd.set_option(\"display.precision\", 3)\n",
    "warnings.filterwarnings('ignore')\n",
    "\n",
    "# Read in and view data\n",
    "google_drive_sharing_url = \"https://drive.google.com/file/d/1kWZC9aJf3KCboVfqN8x83kyh6aVSVDWd/view?usp=sharing\"\n",
    "path ='https://drive.google.com/uc?id=' + google_drive_sharing_url.split('/')[-2]\n",
    "data_full = pd.read_csv(path)\n",
    "#print(data_full.dtypes)\n",
    "data_full.head(3)"
   ]
  },
  {
   "attachments": {},
   "cell_type": "markdown",
   "id": "542360a6",
   "metadata": {},
   "source": [
    "# 1. Data Wrangling / Cleaning"
   ]
  },
  {
   "cell_type": "code",
   "execution_count": 485,
   "id": "26a8d376",
   "metadata": {},
   "outputs": [
    {
     "data": {
      "text/html": [
       "<div>\n",
       "<style scoped>\n",
       "    .dataframe tbody tr th:only-of-type {\n",
       "        vertical-align: middle;\n",
       "    }\n",
       "\n",
       "    .dataframe tbody tr th {\n",
       "        vertical-align: top;\n",
       "    }\n",
       "\n",
       "    .dataframe thead th {\n",
       "        text-align: right;\n",
       "    }\n",
       "</style>\n",
       "<table border=\"1\" class=\"dataframe\">\n",
       "  <thead>\n",
       "    <tr style=\"text-align: right;\">\n",
       "      <th></th>\n",
       "      <th>Total</th>\n",
       "      <th>%</th>\n",
       "    </tr>\n",
       "  </thead>\n",
       "  <tbody>\n",
       "    <tr>\n",
       "      <th>at</th>\n",
       "      <td>67951</td>\n",
       "      <td>50.8</td>\n",
       "    </tr>\n",
       "    <tr>\n",
       "      <th>three_p_pct</th>\n",
       "      <td>26359</td>\n",
       "      <td>19.7</td>\n",
       "    </tr>\n",
       "    <tr>\n",
       "      <th>ft_pct</th>\n",
       "      <td>24877</td>\n",
       "      <td>18.6</td>\n",
       "    </tr>\n",
       "  </tbody>\n",
       "</table>\n",
       "</div>"
      ],
      "text/plain": [
       "             Total     %\n",
       "at           67951  50.8\n",
       "three_p_pct  26359  19.7\n",
       "ft_pct       24877  18.6"
      ]
     },
     "execution_count": 485,
     "metadata": {},
     "output_type": "execute_result"
    }
   ],
   "source": [
    "# Checking NA\n",
    "def nan_check(data):\n",
    "    total = data.isnull().sum().sort_values(ascending=False)\n",
    "    percent = data.isnull().sum()/data.isnull().count()*100\n",
    "    percent_final = (np.round(percent, 1)).sort_values(ascending=False)\n",
    "    missing_data = pd.concat([total, percent_final], axis=1, keys=['Total', '%'])\n",
    "    return missing_data\n",
    "\n",
    "df = data_full.copy()\n",
    "\n",
    "df_nan_check = nan_check(data=df)\n",
    "\n",
    "# Viewing any column that has NA\n",
    "reqs = (df_nan_check['Total'] != 0)\n",
    "df_nan_check[reqs]"
   ]
  },
  {
   "attachments": {},
   "cell_type": "markdown",
   "id": "bc81d167",
   "metadata": {},
   "source": [
    "Here is my process for filling these missing values:"
   ]
  },
  {
   "cell_type": "code",
   "execution_count": 486,
   "id": "fbb08881",
   "metadata": {},
   "outputs": [],
   "source": [
    "# Function to look at the values of each Column\n",
    "def table_function(Series):\n",
    "    value_counts = Series.value_counts(sort=True, ascending=False, dropna=False)\n",
    "    normalized_value_counts = Series.value_counts(sort=True, ascending=False, dropna=False, normalize=True)\n",
    "    normalized_value_counts = (np.round(normalized_value_counts, 3))\n",
    "    join = pd.concat([value_counts, normalized_value_counts], axis=1, keys=['n', 'prop'])\n",
    "    join = join.reset_index()\n",
    "    return join"
   ]
  },
  {
   "attachments": {},
   "cell_type": "markdown",
   "id": "23a098c1",
   "metadata": {},
   "source": [
    "#### Variable: 'at'"
   ]
  },
  {
   "cell_type": "code",
   "execution_count": 487,
   "id": "6fab752e",
   "metadata": {},
   "outputs": [
    {
     "data": {
      "text/html": [
       "<div>\n",
       "<style scoped>\n",
       "    .dataframe tbody tr th:only-of-type {\n",
       "        vertical-align: middle;\n",
       "    }\n",
       "\n",
       "    .dataframe tbody tr th {\n",
       "        vertical-align: top;\n",
       "    }\n",
       "\n",
       "    .dataframe thead th {\n",
       "        text-align: right;\n",
       "    }\n",
       "</style>\n",
       "<table border=\"1\" class=\"dataframe\">\n",
       "  <thead>\n",
       "    <tr style=\"text-align: right;\">\n",
       "      <th></th>\n",
       "      <th>at</th>\n",
       "      <th>n</th>\n",
       "      <th>prop</th>\n",
       "    </tr>\n",
       "  </thead>\n",
       "  <tbody>\n",
       "    <tr>\n",
       "      <th>0</th>\n",
       "      <td>NaN</td>\n",
       "      <td>67951</td>\n",
       "      <td>0.508</td>\n",
       "    </tr>\n",
       "    <tr>\n",
       "      <th>1</th>\n",
       "      <td>@</td>\n",
       "      <td>65880</td>\n",
       "      <td>0.492</td>\n",
       "    </tr>\n",
       "  </tbody>\n",
       "</table>\n",
       "</div>"
      ],
      "text/plain": [
       "    at      n   prop\n",
       "0  NaN  67951  0.508\n",
       "1    @  65880  0.492"
      ]
     },
     "execution_count": 487,
     "metadata": {},
     "output_type": "execute_result"
    }
   ],
   "source": [
    "table_function(df['at'])"
   ]
  },
  {
   "attachments": {},
   "cell_type": "markdown",
   "id": "01da71b1",
   "metadata": {},
   "source": [
    "@ means that this player's team is on the road.\n",
    "\n",
    "Therefore, I can derive a new variable and turn NaN's into 'Home' and @'s into 'Away'."
   ]
  },
  {
   "cell_type": "code",
   "execution_count": 488,
   "id": "42c62b34",
   "metadata": {},
   "outputs": [],
   "source": [
    "df['home_or_away'] = ['Away' if x == '@' else 'Home' for x in df['at']] \n",
    "df.drop(['at'], axis=1, inplace=True)"
   ]
  },
  {
   "attachments": {},
   "cell_type": "markdown",
   "id": "33baadc7",
   "metadata": {},
   "source": [
    "#### Variables: 'ft_pct', 'three_p_pct', 'fg_pct'"
   ]
  },
  {
   "cell_type": "code",
   "execution_count": 489,
   "id": "b33be988",
   "metadata": {},
   "outputs": [
    {
     "data": {
      "text/html": [
       "<div>\n",
       "<style scoped>\n",
       "    .dataframe tbody tr th:only-of-type {\n",
       "        vertical-align: middle;\n",
       "    }\n",
       "\n",
       "    .dataframe tbody tr th {\n",
       "        vertical-align: top;\n",
       "    }\n",
       "\n",
       "    .dataframe thead th {\n",
       "        text-align: right;\n",
       "    }\n",
       "</style>\n",
       "<table border=\"1\" class=\"dataframe\">\n",
       "  <thead>\n",
       "    <tr style=\"text-align: right;\">\n",
       "      <th></th>\n",
       "      <th>ft</th>\n",
       "      <th>fta</th>\n",
       "      <th>ft_pct</th>\n",
       "    </tr>\n",
       "  </thead>\n",
       "  <tbody>\n",
       "    <tr>\n",
       "      <th>80098</th>\n",
       "      <td>0</td>\n",
       "      <td>0</td>\n",
       "      <td>NaN</td>\n",
       "    </tr>\n",
       "  </tbody>\n",
       "</table>\n",
       "</div>"
      ],
      "text/plain": [
       "       ft  fta  ft_pct\n",
       "80098   0    0     NaN"
      ]
     },
     "execution_count": 489,
     "metadata": {},
     "output_type": "execute_result"
    }
   ],
   "source": [
    "df[['ft', 'fta', 'ft_pct']].sort_values(['fta'], ascending=True).head(1)"
   ]
  },
  {
   "cell_type": "code",
   "execution_count": 490,
   "id": "983c0866",
   "metadata": {},
   "outputs": [
    {
     "data": {
      "text/html": [
       "<div>\n",
       "<style scoped>\n",
       "    .dataframe tbody tr th:only-of-type {\n",
       "        vertical-align: middle;\n",
       "    }\n",
       "\n",
       "    .dataframe tbody tr th {\n",
       "        vertical-align: top;\n",
       "    }\n",
       "\n",
       "    .dataframe thead th {\n",
       "        text-align: right;\n",
       "    }\n",
       "</style>\n",
       "<table border=\"1\" class=\"dataframe\">\n",
       "  <thead>\n",
       "    <tr style=\"text-align: right;\">\n",
       "      <th></th>\n",
       "      <th>three_p</th>\n",
       "      <th>three_pa</th>\n",
       "      <th>three_p_pct</th>\n",
       "    </tr>\n",
       "  </thead>\n",
       "  <tbody>\n",
       "    <tr>\n",
       "      <th>133830</th>\n",
       "      <td>0</td>\n",
       "      <td>0</td>\n",
       "      <td>NaN</td>\n",
       "    </tr>\n",
       "  </tbody>\n",
       "</table>\n",
       "</div>"
      ],
      "text/plain": [
       "        three_p  three_pa  three_p_pct\n",
       "133830        0         0          NaN"
      ]
     },
     "execution_count": 490,
     "metadata": {},
     "output_type": "execute_result"
    }
   ],
   "source": [
    "df[['three_p', 'three_pa', 'three_p_pct']].sort_values(['three_pa'], ascending=True).head(1)"
   ]
  },
  {
   "cell_type": "code",
   "execution_count": 491,
   "id": "2cfd1fce",
   "metadata": {},
   "outputs": [
    {
     "data": {
      "text/html": [
       "<div>\n",
       "<style scoped>\n",
       "    .dataframe tbody tr th:only-of-type {\n",
       "        vertical-align: middle;\n",
       "    }\n",
       "\n",
       "    .dataframe tbody tr th {\n",
       "        vertical-align: top;\n",
       "    }\n",
       "\n",
       "    .dataframe thead th {\n",
       "        text-align: right;\n",
       "    }\n",
       "</style>\n",
       "<table border=\"1\" class=\"dataframe\">\n",
       "  <thead>\n",
       "    <tr style=\"text-align: right;\">\n",
       "      <th></th>\n",
       "      <th>fg</th>\n",
       "      <th>fga</th>\n",
       "      <th>fg_pct</th>\n",
       "    </tr>\n",
       "  </thead>\n",
       "  <tbody>\n",
       "    <tr>\n",
       "      <th>31018</th>\n",
       "      <td>1</td>\n",
       "      <td>1</td>\n",
       "      <td>1.0</td>\n",
       "    </tr>\n",
       "  </tbody>\n",
       "</table>\n",
       "</div>"
      ],
      "text/plain": [
       "       fg  fga  fg_pct\n",
       "31018   1    1     1.0"
      ]
     },
     "execution_count": 491,
     "metadata": {},
     "output_type": "execute_result"
    }
   ],
   "source": [
    "df[['fg', 'fga', 'fg_pct']].sort_values(['fga'], ascending=True).head(1)"
   ]
  },
  {
   "attachments": {},
   "cell_type": "markdown",
   "id": "6b8dbcdf",
   "metadata": {},
   "source": [
    "NaN means that the player shot no free throws/field goals/3pt field goals. \n",
    "\n",
    "These columns are OK to leave as NaN for now. Might turn them into 0's later for modeling purposes, if applicable."
   ]
  },
  {
   "attachments": {},
   "cell_type": "markdown",
   "id": "52ff49ec",
   "metadata": {},
   "source": [
    "#### Variable: mp"
   ]
  },
  {
   "cell_type": "code",
   "execution_count": 492,
   "id": "7874b996",
   "metadata": {},
   "outputs": [
    {
     "data": {
      "text/html": [
       "<div>\n",
       "<style scoped>\n",
       "    .dataframe tbody tr th:only-of-type {\n",
       "        vertical-align: middle;\n",
       "    }\n",
       "\n",
       "    .dataframe tbody tr th {\n",
       "        vertical-align: top;\n",
       "    }\n",
       "\n",
       "    .dataframe thead th {\n",
       "        text-align: right;\n",
       "    }\n",
       "</style>\n",
       "<table border=\"1\" class=\"dataframe\">\n",
       "  <thead>\n",
       "    <tr style=\"text-align: right;\">\n",
       "      <th></th>\n",
       "      <th>mp</th>\n",
       "      <th>pts</th>\n",
       "    </tr>\n",
       "  </thead>\n",
       "  <tbody>\n",
       "    <tr>\n",
       "      <th>14937</th>\n",
       "      <td>2698</td>\n",
       "      <td>70</td>\n",
       "    </tr>\n",
       "    <tr>\n",
       "      <th>4268</th>\n",
       "      <td>2319</td>\n",
       "      <td>62</td>\n",
       "    </tr>\n",
       "    <tr>\n",
       "      <th>29171</th>\n",
       "      <td>2187</td>\n",
       "      <td>62</td>\n",
       "    </tr>\n",
       "    <tr>\n",
       "      <th>66195</th>\n",
       "      <td>2472</td>\n",
       "      <td>61</td>\n",
       "    </tr>\n",
       "    <tr>\n",
       "      <th>52773</th>\n",
       "      <td>36:40:00</td>\n",
       "      <td>61</td>\n",
       "    </tr>\n",
       "  </tbody>\n",
       "</table>\n",
       "</div>"
      ],
      "text/plain": [
       "             mp  pts\n",
       "14937      2698   70\n",
       "4268       2319   62\n",
       "29171      2187   62\n",
       "66195      2472   61\n",
       "52773  36:40:00   61"
      ]
     },
     "execution_count": 492,
     "metadata": {},
     "output_type": "execute_result"
    }
   ],
   "source": [
    "df[['mp', 'pts']].sort_values(['pts'], ascending=False).head(5)"
   ]
  },
  {
   "cell_type": "code",
   "execution_count": 493,
   "id": "5c4fc467",
   "metadata": {},
   "outputs": [
    {
     "data": {
      "text/html": [
       "<div>\n",
       "<style scoped>\n",
       "    .dataframe tbody tr th:only-of-type {\n",
       "        vertical-align: middle;\n",
       "    }\n",
       "\n",
       "    .dataframe tbody tr th {\n",
       "        vertical-align: top;\n",
       "    }\n",
       "\n",
       "    .dataframe thead th {\n",
       "        text-align: right;\n",
       "    }\n",
       "</style>\n",
       "<table border=\"1\" class=\"dataframe\">\n",
       "  <thead>\n",
       "    <tr style=\"text-align: right;\">\n",
       "      <th></th>\n",
       "      <th>mp</th>\n",
       "      <th>pts</th>\n",
       "    </tr>\n",
       "  </thead>\n",
       "  <tbody>\n",
       "    <tr>\n",
       "      <th>133830</th>\n",
       "      <td>1317</td>\n",
       "      <td>10</td>\n",
       "    </tr>\n",
       "    <tr>\n",
       "      <th>73048</th>\n",
       "      <td>614</td>\n",
       "      <td>10</td>\n",
       "    </tr>\n",
       "    <tr>\n",
       "      <th>16779</th>\n",
       "      <td>1495</td>\n",
       "      <td>10</td>\n",
       "    </tr>\n",
       "    <tr>\n",
       "      <th>41714</th>\n",
       "      <td>1662</td>\n",
       "      <td>10</td>\n",
       "    </tr>\n",
       "    <tr>\n",
       "      <th>16771</th>\n",
       "      <td>1185</td>\n",
       "      <td>10</td>\n",
       "    </tr>\n",
       "  </tbody>\n",
       "</table>\n",
       "</div>"
      ],
      "text/plain": [
       "          mp  pts\n",
       "133830  1317   10\n",
       "73048    614   10\n",
       "16779   1495   10\n",
       "41714   1662   10\n",
       "16771   1185   10"
      ]
     },
     "execution_count": 493,
     "metadata": {},
     "output_type": "execute_result"
    }
   ],
   "source": [
    "df[['mp', 'pts']].sort_values(['pts'], ascending=True).head(5)"
   ]
  },
  {
   "attachments": {},
   "cell_type": "markdown",
   "id": "a229a43d",
   "metadata": {},
   "source": [
    "I am guessing that this variable is minutes played, but I am not sure what format this data is in.\n",
    "\n",
    "I am not planning on using this variable for my analysis so I will just move on."
   ]
  },
  {
   "attachments": {},
   "cell_type": "markdown",
   "id": "193dd88d",
   "metadata": {},
   "source": [
    "#### Variable: plus_minus"
   ]
  },
  {
   "cell_type": "code",
   "execution_count": 494,
   "id": "8d9ad568",
   "metadata": {},
   "outputs": [
    {
     "data": {
      "text/html": [
       "<div>\n",
       "<style scoped>\n",
       "    .dataframe tbody tr th:only-of-type {\n",
       "        vertical-align: middle;\n",
       "    }\n",
       "\n",
       "    .dataframe tbody tr th {\n",
       "        vertical-align: top;\n",
       "    }\n",
       "\n",
       "    .dataframe thead th {\n",
       "        text-align: right;\n",
       "    }\n",
       "</style>\n",
       "<table border=\"1\" class=\"dataframe\">\n",
       "  <thead>\n",
       "    <tr style=\"text-align: right;\">\n",
       "      <th></th>\n",
       "      <th>plus_minus</th>\n",
       "      <th>n</th>\n",
       "      <th>prop</th>\n",
       "    </tr>\n",
       "  </thead>\n",
       "  <tbody>\n",
       "    <tr>\n",
       "      <th>0</th>\n",
       "      <td>3</td>\n",
       "      <td>4382</td>\n",
       "      <td>0.033</td>\n",
       "    </tr>\n",
       "    <tr>\n",
       "      <th>1</th>\n",
       "      <td>1</td>\n",
       "      <td>4345</td>\n",
       "      <td>0.032</td>\n",
       "    </tr>\n",
       "    <tr>\n",
       "      <th>2</th>\n",
       "      <td>2</td>\n",
       "      <td>4345</td>\n",
       "      <td>0.032</td>\n",
       "    </tr>\n",
       "    <tr>\n",
       "      <th>3</th>\n",
       "      <td>5</td>\n",
       "      <td>4326</td>\n",
       "      <td>0.032</td>\n",
       "    </tr>\n",
       "    <tr>\n",
       "      <th>4</th>\n",
       "      <td>4</td>\n",
       "      <td>4314</td>\n",
       "      <td>0.032</td>\n",
       "    </tr>\n",
       "    <tr>\n",
       "      <th>...</th>\n",
       "      <td>...</td>\n",
       "      <td>...</td>\n",
       "      <td>...</td>\n",
       "    </tr>\n",
       "    <tr>\n",
       "      <th>101</th>\n",
       "      <td>52</td>\n",
       "      <td>1</td>\n",
       "      <td>0.000</td>\n",
       "    </tr>\n",
       "    <tr>\n",
       "      <th>102</th>\n",
       "      <td>51</td>\n",
       "      <td>1</td>\n",
       "      <td>0.000</td>\n",
       "    </tr>\n",
       "    <tr>\n",
       "      <th>103</th>\n",
       "      <td>57</td>\n",
       "      <td>1</td>\n",
       "      <td>0.000</td>\n",
       "    </tr>\n",
       "    <tr>\n",
       "      <th>104</th>\n",
       "      <td>-51</td>\n",
       "      <td>1</td>\n",
       "      <td>0.000</td>\n",
       "    </tr>\n",
       "    <tr>\n",
       "      <th>105</th>\n",
       "      <td>-46</td>\n",
       "      <td>1</td>\n",
       "      <td>0.000</td>\n",
       "    </tr>\n",
       "  </tbody>\n",
       "</table>\n",
       "<p>106 rows × 3 columns</p>\n",
       "</div>"
      ],
      "text/plain": [
       "     plus_minus     n   prop\n",
       "0             3  4382  0.033\n",
       "1             1  4345  0.032\n",
       "2             2  4345  0.032\n",
       "3             5  4326  0.032\n",
       "4             4  4314  0.032\n",
       "..          ...   ...    ...\n",
       "101          52     1  0.000\n",
       "102          51     1  0.000\n",
       "103          57     1  0.000\n",
       "104         -51     1  0.000\n",
       "105         -46     1  0.000\n",
       "\n",
       "[106 rows x 3 columns]"
      ]
     },
     "execution_count": 494,
     "metadata": {},
     "output_type": "execute_result"
    }
   ],
   "source": [
    "d = table_function(df['plus_minus'])\n",
    "d"
   ]
  },
  {
   "cell_type": "code",
   "execution_count": 495,
   "id": "a4ee3424",
   "metadata": {},
   "outputs": [
    {
     "data": {
      "text/html": [
       "<div>\n",
       "<style scoped>\n",
       "    .dataframe tbody tr th:only-of-type {\n",
       "        vertical-align: middle;\n",
       "    }\n",
       "\n",
       "    .dataframe tbody tr th {\n",
       "        vertical-align: top;\n",
       "    }\n",
       "\n",
       "    .dataframe thead th {\n",
       "        text-align: right;\n",
       "    }\n",
       "</style>\n",
       "<table border=\"1\" class=\"dataframe\">\n",
       "  <thead>\n",
       "    <tr style=\"text-align: right;\">\n",
       "      <th></th>\n",
       "      <th>plus_minus</th>\n",
       "      <th>n</th>\n",
       "      <th>prop</th>\n",
       "    </tr>\n",
       "  </thead>\n",
       "  <tbody>\n",
       "    <tr>\n",
       "      <th>13</th>\n",
       "      <td>9</td>\n",
       "      <td>3774</td>\n",
       "      <td>0.028</td>\n",
       "    </tr>\n",
       "    <tr>\n",
       "      <th>12</th>\n",
       "      <td>8</td>\n",
       "      <td>3919</td>\n",
       "      <td>0.029</td>\n",
       "    </tr>\n",
       "  </tbody>\n",
       "</table>\n",
       "</div>"
      ],
      "text/plain": [
       "   plus_minus     n   prop\n",
       "13          9  3774  0.028\n",
       "12          8  3919  0.029"
      ]
     },
     "execution_count": 495,
     "metadata": {},
     "output_type": "execute_result"
    }
   ],
   "source": [
    "d = table_function(df['plus_minus'])\n",
    "\n",
    "d['plus_minus'] = d['plus_minus'].astype(str)\n",
    "\n",
    "d.sort_values(['plus_minus'], ascending=False).head(2)"
   ]
  },
  {
   "cell_type": "code",
   "execution_count": 496,
   "id": "f1fa1797",
   "metadata": {},
   "outputs": [
    {
     "data": {
      "text/html": [
       "<div>\n",
       "<style scoped>\n",
       "    .dataframe tbody tr th:only-of-type {\n",
       "        vertical-align: middle;\n",
       "    }\n",
       "\n",
       "    .dataframe tbody tr th {\n",
       "        vertical-align: top;\n",
       "    }\n",
       "\n",
       "    .dataframe thead th {\n",
       "        text-align: right;\n",
       "    }\n",
       "</style>\n",
       "<table border=\"1\" class=\"dataframe\">\n",
       "  <thead>\n",
       "    <tr style=\"text-align: right;\">\n",
       "      <th></th>\n",
       "      <th>mp</th>\n",
       "      <th>plus_minus</th>\n",
       "      <th>fga</th>\n",
       "    </tr>\n",
       "  </thead>\n",
       "  <tbody>\n",
       "  </tbody>\n",
       "</table>\n",
       "</div>"
      ],
      "text/plain": [
       "Empty DataFrame\n",
       "Columns: [mp, plus_minus, fga]\n",
       "Index: []"
      ]
     },
     "execution_count": 496,
     "metadata": {},
     "output_type": "execute_result"
    }
   ],
   "source": [
    "d = df.copy()\n",
    "\n",
    "# Fix dtype\n",
    "d['plus_minus'] = d['plus_minus'].astype(str)\n",
    "\n",
    "reqs = (d['plus_minus'] == 'nan')\n",
    "d[reqs][['mp', 'plus_minus', 'fga']].head(3)"
   ]
  },
  {
   "attachments": {},
   "cell_type": "markdown",
   "id": "90718a07",
   "metadata": {},
   "source": [
    "NA in this field appears to be games where the player did not play and/or did not shoot.\n",
    "\n",
    "Similarly to minutes played, I don't plan on using this column in the analysis so I will leave the NA's as is."
   ]
  },
  {
   "attachments": {},
   "cell_type": "markdown",
   "id": "355a5c25",
   "metadata": {},
   "source": [
    "# 2. Simulating from elite seasons for our hypothetical player"
   ]
  },
  {
   "cell_type": "code",
   "execution_count": 497,
   "id": "73e38d38",
   "metadata": {},
   "outputs": [],
   "source": [
    "def find_elite_player_seasons(df, variable_of_interest, lower_bound, upper_bound):\n",
    "    \"\"\"\n",
    "    Slices a box score dataset to only have elite player seasons games in it.\n",
    "    \n",
    "    Parameters\n",
    "    ----------\n",
    "    df: pd.DataFrame\n",
    "        The dataframe that has box score data \n",
    "    \n",
    "    variable_of_interest: str\n",
    "        The variable we are judging elite on\n",
    "        \n",
    "    lower_bound: int\n",
    "        The lower bound percentile to be used to deem a player's season 'elite'\n",
    "    \n",
    "    upper_bound: int\n",
    "        The upper bound percentile to be used to deem a player's season 'elite'\n",
    "    \n",
    "    Outputs\n",
    "    ----------\n",
    "    data: pd.DataFrame\n",
    "        A DataFrame with only the results from the elite players in the statistic 'variable_of_interest'\n",
    "    \"\"\"\n",
    "    ### Grab the subset of elite player seasons for this measure. ###\n",
    "\n",
    "    # Create an ID that will allow for making a pivot table for each player's individual seasons (ie. 2021-22Trae Young)\n",
    "    df['id'] = [str(x) + str(y) for x, y in zip(df['season'], df['full_name'])]\n",
    "    \n",
    "    # Create pivot table, ranking players by mean value\n",
    "    pivot_table = df.pivot_table(index='id', values=variable_of_interest, aggfunc=['mean']).reset_index(col_fill=None)\n",
    "    cols = pivot_table.columns\n",
    "    pivot_table.columns = [x[0] for x in cols]\n",
    "    pivot_table.sort_values(['mean'], ascending=False, inplace=True)\n",
    "    \n",
    "    # If variable of interest is in the following list, take bottom 5% since a high value is bad ie. Turnovers\n",
    "    if variable_of_interest in ['tov']:\n",
    "        upper_bound_value = np.quantile(pivot_table['mean'], (100 - lower_bound)/100)\n",
    "        lower_bound_value = np.quantile(pivot_table['mean'], (100 - upper_bound)/100)\n",
    "    else:\n",
    "        lower_bound_value = np.quantile(pivot_table['mean'], lower_bound/100)\n",
    "        upper_bound_value = np.quantile(pivot_table['mean'], upper_bound/100)\n",
    "    \n",
    "    # Get the set of ID's for elite season (ie. 2021-22Trae Young, 2018-19LebronJames)\n",
    "    reqs = (pivot_table['mean'] > lower_bound_value) & (pivot_table['mean'] < upper_bound_value) \n",
    "    df_elite_subset = pivot_table[reqs]\n",
    "    set_elite_seasons = set(df_elite_subset['id'])\n",
    "    \n",
    "    # Take the subset of the data for elite seasons\n",
    "    df['keep'] = df['id'].isin(set_elite_seasons)\n",
    "    reqs = (df['keep'])\n",
    "    df_subset_elite_box_scores = df[reqs]\n",
    "    return df_subset_elite_box_scores"
   ]
  },
  {
   "cell_type": "code",
   "execution_count": 498,
   "id": "4d54dc78",
   "metadata": {},
   "outputs": [],
   "source": [
    "def generate_random_outcomes(data, n):\n",
    "    \"\"\"\n",
    "    Parameters\n",
    "    ------------\n",
    "    data: list\n",
    "        A list/array of a probability distribution\n",
    "    \n",
    "    n: int\n",
    "        The number of random draws to generate\n",
    "        \n",
    "    Returns\n",
    "    ------------\n",
    "    simulated_outcomes\n",
    "        A list of random outcomes from the probability distribution\n",
    "    \"\"\"\n",
    "    # Get a list stepping from .05, .06, ..., .95\n",
    "    possible_percentile_values = [x / 100 for x in list(range(5, 95 + 1))]\n",
    "    \n",
    "    # Get a list of n random percentile values\n",
    "    list_random_percentiles = [random.choice(possible_percentile_values) for x in range(20)]\n",
    "    \n",
    "    # Remove NA's from the probability distribution\n",
    "    data_na_removed = [float(x) for x in data if str(x) != 'nan']\n",
    "    # Retrieve the values/simulated outcomes from the probability distribution that corresponds to this percentile\n",
    "    simulated_outcomes = [np.quantile(data_na_removed, x) for x in list_random_percentiles]\n",
    "    return simulated_outcomes"
   ]
  },
  {
   "cell_type": "code",
   "execution_count": 499,
   "id": "7dabf58d",
   "metadata": {},
   "outputs": [],
   "source": [
    "def generate_box_scores(df_box_score_data, variables, lower_bound, upper_bound, n):\n",
    "    \"\"\"\n",
    "    Parameters\n",
    "    ------------\n",
    "    df_box_score_data: pd.DataFrame\n",
    "        Dataframe with the box score dating going back 12 years\n",
    "    \n",
    "    variables: list\n",
    "        A list of variables to generate simulated values from\n",
    "        \n",
    "    percentile: int\n",
    "        A percentile\n",
    "        \n",
    "    n: int\n",
    "        The number of random games to generate\n",
    "        \n",
    "    Returns\n",
    "    ------------\n",
    "    box score: pd.DataFrame\n",
    "        A list of random outcomes from the probability distribution\n",
    "    \"\"\"\n",
    "    # Initialize dictionary\n",
    "    dict_outcomes = {'game': range(1, 20 + 1)}\n",
    "    \n",
    "    # For each variable\n",
    "    for x in variables:\n",
    "        # Quick fix: for variable 'ft_pct', simply simulate 20 games of 100%!\n",
    "        if x == \"ft_pct\":\n",
    "            l = [1] * 20\n",
    "            dict_outcomes[x] = l\n",
    "            continue\n",
    "\n",
    "        # 1. Slices a box score dataset to only have elite player seasons games in it.\n",
    "        df_elite_player_seasons = find_elite_player_seasons(df=df_box_score_data,\n",
    "                                                            variable_of_interest=x,\n",
    "                                                            lower_bound=lower_bound,\n",
    "                                                            upper_bound=upper_bound)\n",
    "        \n",
    "        # 2.Generate probability distribution\n",
    "        probability_distribution = df_elite_player_seasons[x]\n",
    "        # 3. Take 20 random draws\n",
    "        simulated_outcomes = generate_random_outcomes(data=probability_distribution, n=n)\n",
    "        # 4. Add this value to the dictionary\n",
    "        dict_outcomes[x] = simulated_outcomes\n",
    "        \n",
    "    # Turn this dictionary into pandas DataFrame\n",
    "    box_score = pd.DataFrame(dict_outcomes)\n",
    "    return box_score"
   ]
  },
  {
   "attachments": {},
   "cell_type": "markdown",
   "id": "04d98d7c",
   "metadata": {},
   "source": [
    "# Generate the 20 Game Box Scores"
   ]
  },
  {
   "cell_type": "code",
   "execution_count": 500,
   "id": "fe292a02",
   "metadata": {},
   "outputs": [],
   "source": [
    "# Derive 2pt FGA / 2pt FGM / 2pt FG%\n",
    "df['two_p'] = df['fg'] - df['three_p']\n",
    "df['two_pa'] = df['fga'] - df['three_pa']\n",
    "df['two_p_pct'] = df['two_p'] / df['two_pa']"
   ]
  },
  {
   "cell_type": "code",
   "execution_count": 501,
   "id": "7b32c13e",
   "metadata": {},
   "outputs": [
    {
     "data": {
      "text/html": [
       "<div>\n",
       "<style scoped>\n",
       "    .dataframe tbody tr th:only-of-type {\n",
       "        vertical-align: middle;\n",
       "    }\n",
       "\n",
       "    .dataframe tbody tr th {\n",
       "        vertical-align: top;\n",
       "    }\n",
       "\n",
       "    .dataframe thead th {\n",
       "        text-align: right;\n",
       "    }\n",
       "</style>\n",
       "<table border=\"1\" class=\"dataframe\">\n",
       "  <thead>\n",
       "    <tr style=\"text-align: right;\">\n",
       "      <th></th>\n",
       "      <th>game</th>\n",
       "      <th>two_pa</th>\n",
       "      <th>two_p_pct</th>\n",
       "      <th>three_pa</th>\n",
       "      <th>three_p_pct</th>\n",
       "      <th>fta</th>\n",
       "      <th>ft_pct</th>\n",
       "      <th>orb</th>\n",
       "      <th>drb</th>\n",
       "      <th>stl</th>\n",
       "      <th>blk</th>\n",
       "      <th>ast</th>\n",
       "      <th>tov</th>\n",
       "    </tr>\n",
       "  </thead>\n",
       "  <tbody>\n",
       "    <tr>\n",
       "      <th>0</th>\n",
       "      <td>1</td>\n",
       "      <td>18.0</td>\n",
       "      <td>1.000</td>\n",
       "      <td>11.0</td>\n",
       "      <td>1.000</td>\n",
       "      <td>4.0</td>\n",
       "      <td>1</td>\n",
       "      <td>6.00</td>\n",
       "      <td>9.0</td>\n",
       "      <td>1.0</td>\n",
       "      <td>4.0</td>\n",
       "      <td>6.0</td>\n",
       "      <td>0.0</td>\n",
       "    </tr>\n",
       "    <tr>\n",
       "      <th>1</th>\n",
       "      <td>2</td>\n",
       "      <td>22.0</td>\n",
       "      <td>0.857</td>\n",
       "      <td>9.0</td>\n",
       "      <td>0.800</td>\n",
       "      <td>9.0</td>\n",
       "      <td>1</td>\n",
       "      <td>6.00</td>\n",
       "      <td>10.0</td>\n",
       "      <td>1.0</td>\n",
       "      <td>3.0</td>\n",
       "      <td>7.0</td>\n",
       "      <td>0.0</td>\n",
       "    </tr>\n",
       "    <tr>\n",
       "      <th>2</th>\n",
       "      <td>3</td>\n",
       "      <td>18.0</td>\n",
       "      <td>1.000</td>\n",
       "      <td>5.0</td>\n",
       "      <td>1.000</td>\n",
       "      <td>9.0</td>\n",
       "      <td>1</td>\n",
       "      <td>4.00</td>\n",
       "      <td>9.0</td>\n",
       "      <td>4.0</td>\n",
       "      <td>4.0</td>\n",
       "      <td>6.0</td>\n",
       "      <td>1.0</td>\n",
       "    </tr>\n",
       "    <tr>\n",
       "      <th>3</th>\n",
       "      <td>4</td>\n",
       "      <td>11.0</td>\n",
       "      <td>0.667</td>\n",
       "      <td>6.0</td>\n",
       "      <td>0.500</td>\n",
       "      <td>10.0</td>\n",
       "      <td>1</td>\n",
       "      <td>3.00</td>\n",
       "      <td>7.0</td>\n",
       "      <td>2.0</td>\n",
       "      <td>3.0</td>\n",
       "      <td>8.0</td>\n",
       "      <td>0.0</td>\n",
       "    </tr>\n",
       "    <tr>\n",
       "      <th>4</th>\n",
       "      <td>5</td>\n",
       "      <td>14.0</td>\n",
       "      <td>0.889</td>\n",
       "      <td>9.0</td>\n",
       "      <td>0.667</td>\n",
       "      <td>6.0</td>\n",
       "      <td>1</td>\n",
       "      <td>3.00</td>\n",
       "      <td>7.0</td>\n",
       "      <td>2.0</td>\n",
       "      <td>2.0</td>\n",
       "      <td>10.0</td>\n",
       "      <td>0.0</td>\n",
       "    </tr>\n",
       "    <tr>\n",
       "      <th>5</th>\n",
       "      <td>6</td>\n",
       "      <td>15.0</td>\n",
       "      <td>1.000</td>\n",
       "      <td>7.0</td>\n",
       "      <td>1.000</td>\n",
       "      <td>7.0</td>\n",
       "      <td>1</td>\n",
       "      <td>3.00</td>\n",
       "      <td>13.0</td>\n",
       "      <td>1.0</td>\n",
       "      <td>1.0</td>\n",
       "      <td>5.0</td>\n",
       "      <td>0.0</td>\n",
       "    </tr>\n",
       "    <tr>\n",
       "      <th>6</th>\n",
       "      <td>7</td>\n",
       "      <td>12.0</td>\n",
       "      <td>0.857</td>\n",
       "      <td>8.0</td>\n",
       "      <td>0.750</td>\n",
       "      <td>6.0</td>\n",
       "      <td>1</td>\n",
       "      <td>1.00</td>\n",
       "      <td>7.0</td>\n",
       "      <td>1.0</td>\n",
       "      <td>3.0</td>\n",
       "      <td>6.0</td>\n",
       "      <td>0.0</td>\n",
       "    </tr>\n",
       "    <tr>\n",
       "      <th>7</th>\n",
       "      <td>8</td>\n",
       "      <td>17.0</td>\n",
       "      <td>1.000</td>\n",
       "      <td>7.0</td>\n",
       "      <td>1.000</td>\n",
       "      <td>2.0</td>\n",
       "      <td>1</td>\n",
       "      <td>3.00</td>\n",
       "      <td>10.0</td>\n",
       "      <td>2.0</td>\n",
       "      <td>2.0</td>\n",
       "      <td>5.0</td>\n",
       "      <td>0.0</td>\n",
       "    </tr>\n",
       "    <tr>\n",
       "      <th>8</th>\n",
       "      <td>9</td>\n",
       "      <td>22.0</td>\n",
       "      <td>0.833</td>\n",
       "      <td>12.0</td>\n",
       "      <td>1.000</td>\n",
       "      <td>5.0</td>\n",
       "      <td>1</td>\n",
       "      <td>3.00</td>\n",
       "      <td>5.0</td>\n",
       "      <td>1.0</td>\n",
       "      <td>4.0</td>\n",
       "      <td>9.0</td>\n",
       "      <td>0.0</td>\n",
       "    </tr>\n",
       "    <tr>\n",
       "      <th>9</th>\n",
       "      <td>10</td>\n",
       "      <td>19.0</td>\n",
       "      <td>0.667</td>\n",
       "      <td>8.0</td>\n",
       "      <td>1.000</td>\n",
       "      <td>11.0</td>\n",
       "      <td>1</td>\n",
       "      <td>8.00</td>\n",
       "      <td>10.0</td>\n",
       "      <td>0.0</td>\n",
       "      <td>3.0</td>\n",
       "      <td>8.0</td>\n",
       "      <td>0.0</td>\n",
       "    </tr>\n",
       "    <tr>\n",
       "      <th>10</th>\n",
       "      <td>11</td>\n",
       "      <td>10.0</td>\n",
       "      <td>0.549</td>\n",
       "      <td>6.0</td>\n",
       "      <td>1.000</td>\n",
       "      <td>8.0</td>\n",
       "      <td>1</td>\n",
       "      <td>3.00</td>\n",
       "      <td>9.0</td>\n",
       "      <td>4.0</td>\n",
       "      <td>2.0</td>\n",
       "      <td>5.0</td>\n",
       "      <td>0.0</td>\n",
       "    </tr>\n",
       "    <tr>\n",
       "      <th>11</th>\n",
       "      <td>12</td>\n",
       "      <td>20.0</td>\n",
       "      <td>0.833</td>\n",
       "      <td>8.0</td>\n",
       "      <td>0.400</td>\n",
       "      <td>11.0</td>\n",
       "      <td>1</td>\n",
       "      <td>2.00</td>\n",
       "      <td>6.0</td>\n",
       "      <td>1.0</td>\n",
       "      <td>4.0</td>\n",
       "      <td>7.0</td>\n",
       "      <td>0.0</td>\n",
       "    </tr>\n",
       "    <tr>\n",
       "      <th>12</th>\n",
       "      <td>13</td>\n",
       "      <td>13.0</td>\n",
       "      <td>1.000</td>\n",
       "      <td>13.0</td>\n",
       "      <td>0.385</td>\n",
       "      <td>8.0</td>\n",
       "      <td>1</td>\n",
       "      <td>5.00</td>\n",
       "      <td>5.0</td>\n",
       "      <td>2.0</td>\n",
       "      <td>5.0</td>\n",
       "      <td>8.0</td>\n",
       "      <td>0.0</td>\n",
       "    </tr>\n",
       "    <tr>\n",
       "      <th>13</th>\n",
       "      <td>14</td>\n",
       "      <td>16.0</td>\n",
       "      <td>0.571</td>\n",
       "      <td>10.0</td>\n",
       "      <td>1.000</td>\n",
       "      <td>6.0</td>\n",
       "      <td>1</td>\n",
       "      <td>3.00</td>\n",
       "      <td>12.0</td>\n",
       "      <td>1.0</td>\n",
       "      <td>0.0</td>\n",
       "      <td>11.0</td>\n",
       "      <td>1.0</td>\n",
       "    </tr>\n",
       "    <tr>\n",
       "      <th>14</th>\n",
       "      <td>15</td>\n",
       "      <td>13.0</td>\n",
       "      <td>0.833</td>\n",
       "      <td>12.0</td>\n",
       "      <td>0.800</td>\n",
       "      <td>8.0</td>\n",
       "      <td>1</td>\n",
       "      <td>2.00</td>\n",
       "      <td>7.0</td>\n",
       "      <td>2.0</td>\n",
       "      <td>0.0</td>\n",
       "      <td>7.0</td>\n",
       "      <td>0.0</td>\n",
       "    </tr>\n",
       "    <tr>\n",
       "      <th>15</th>\n",
       "      <td>16</td>\n",
       "      <td>21.0</td>\n",
       "      <td>0.667</td>\n",
       "      <td>11.0</td>\n",
       "      <td>0.667</td>\n",
       "      <td>4.0</td>\n",
       "      <td>1</td>\n",
       "      <td>6.64</td>\n",
       "      <td>8.0</td>\n",
       "      <td>1.0</td>\n",
       "      <td>0.0</td>\n",
       "      <td>7.0</td>\n",
       "      <td>0.0</td>\n",
       "    </tr>\n",
       "    <tr>\n",
       "      <th>16</th>\n",
       "      <td>17</td>\n",
       "      <td>17.0</td>\n",
       "      <td>0.900</td>\n",
       "      <td>5.0</td>\n",
       "      <td>0.667</td>\n",
       "      <td>10.0</td>\n",
       "      <td>1</td>\n",
       "      <td>2.00</td>\n",
       "      <td>8.0</td>\n",
       "      <td>2.0</td>\n",
       "      <td>1.0</td>\n",
       "      <td>3.0</td>\n",
       "      <td>0.0</td>\n",
       "    </tr>\n",
       "    <tr>\n",
       "      <th>17</th>\n",
       "      <td>18</td>\n",
       "      <td>12.0</td>\n",
       "      <td>1.000</td>\n",
       "      <td>10.0</td>\n",
       "      <td>1.000</td>\n",
       "      <td>4.0</td>\n",
       "      <td>1</td>\n",
       "      <td>4.00</td>\n",
       "      <td>9.0</td>\n",
       "      <td>1.0</td>\n",
       "      <td>0.0</td>\n",
       "      <td>12.0</td>\n",
       "      <td>0.0</td>\n",
       "    </tr>\n",
       "    <tr>\n",
       "      <th>18</th>\n",
       "      <td>19</td>\n",
       "      <td>12.0</td>\n",
       "      <td>1.000</td>\n",
       "      <td>6.0</td>\n",
       "      <td>0.500</td>\n",
       "      <td>6.0</td>\n",
       "      <td>1</td>\n",
       "      <td>3.00</td>\n",
       "      <td>9.0</td>\n",
       "      <td>3.0</td>\n",
       "      <td>3.0</td>\n",
       "      <td>6.0</td>\n",
       "      <td>1.0</td>\n",
       "    </tr>\n",
       "    <tr>\n",
       "      <th>19</th>\n",
       "      <td>20</td>\n",
       "      <td>15.0</td>\n",
       "      <td>1.000</td>\n",
       "      <td>9.0</td>\n",
       "      <td>0.385</td>\n",
       "      <td>5.0</td>\n",
       "      <td>1</td>\n",
       "      <td>1.00</td>\n",
       "      <td>8.0</td>\n",
       "      <td>4.0</td>\n",
       "      <td>0.0</td>\n",
       "      <td>4.0</td>\n",
       "      <td>0.0</td>\n",
       "    </tr>\n",
       "  </tbody>\n",
       "</table>\n",
       "</div>"
      ],
      "text/plain": [
       "    game  two_pa  two_p_pct  three_pa  three_p_pct   fta  ft_pct   orb   drb   \n",
       "0      1    18.0      1.000      11.0        1.000   4.0       1  6.00   9.0  \\\n",
       "1      2    22.0      0.857       9.0        0.800   9.0       1  6.00  10.0   \n",
       "2      3    18.0      1.000       5.0        1.000   9.0       1  4.00   9.0   \n",
       "3      4    11.0      0.667       6.0        0.500  10.0       1  3.00   7.0   \n",
       "4      5    14.0      0.889       9.0        0.667   6.0       1  3.00   7.0   \n",
       "5      6    15.0      1.000       7.0        1.000   7.0       1  3.00  13.0   \n",
       "6      7    12.0      0.857       8.0        0.750   6.0       1  1.00   7.0   \n",
       "7      8    17.0      1.000       7.0        1.000   2.0       1  3.00  10.0   \n",
       "8      9    22.0      0.833      12.0        1.000   5.0       1  3.00   5.0   \n",
       "9     10    19.0      0.667       8.0        1.000  11.0       1  8.00  10.0   \n",
       "10    11    10.0      0.549       6.0        1.000   8.0       1  3.00   9.0   \n",
       "11    12    20.0      0.833       8.0        0.400  11.0       1  2.00   6.0   \n",
       "12    13    13.0      1.000      13.0        0.385   8.0       1  5.00   5.0   \n",
       "13    14    16.0      0.571      10.0        1.000   6.0       1  3.00  12.0   \n",
       "14    15    13.0      0.833      12.0        0.800   8.0       1  2.00   7.0   \n",
       "15    16    21.0      0.667      11.0        0.667   4.0       1  6.64   8.0   \n",
       "16    17    17.0      0.900       5.0        0.667  10.0       1  2.00   8.0   \n",
       "17    18    12.0      1.000      10.0        1.000   4.0       1  4.00   9.0   \n",
       "18    19    12.0      1.000       6.0        0.500   6.0       1  3.00   9.0   \n",
       "19    20    15.0      1.000       9.0        0.385   5.0       1  1.00   8.0   \n",
       "\n",
       "    stl  blk   ast  tov  \n",
       "0   1.0  4.0   6.0  0.0  \n",
       "1   1.0  3.0   7.0  0.0  \n",
       "2   4.0  4.0   6.0  1.0  \n",
       "3   2.0  3.0   8.0  0.0  \n",
       "4   2.0  2.0  10.0  0.0  \n",
       "5   1.0  1.0   5.0  0.0  \n",
       "6   1.0  3.0   6.0  0.0  \n",
       "7   2.0  2.0   5.0  0.0  \n",
       "8   1.0  4.0   9.0  0.0  \n",
       "9   0.0  3.0   8.0  0.0  \n",
       "10  4.0  2.0   5.0  0.0  \n",
       "11  1.0  4.0   7.0  0.0  \n",
       "12  2.0  5.0   8.0  0.0  \n",
       "13  1.0  0.0  11.0  1.0  \n",
       "14  2.0  0.0   7.0  0.0  \n",
       "15  1.0  0.0   7.0  0.0  \n",
       "16  2.0  1.0   3.0  0.0  \n",
       "17  1.0  0.0  12.0  0.0  \n",
       "18  3.0  3.0   6.0  1.0  \n",
       "19  4.0  0.0   4.0  0.0  "
      ]
     },
     "execution_count": 501,
     "metadata": {},
     "output_type": "execute_result"
    }
   ],
   "source": [
    "# Take the list of variables needed to get our box score stats\n",
    "list_variables = ['two_pa', 'two_p_pct', 'three_pa', 'three_p_pct', 'fta', \n",
    "                  'ft_pct', # leave it in \n",
    "                  'orb', 'drb', 'stl', 'blk',\n",
    "                  'ast', 'tov']\n",
    "\n",
    "# Generate the raw box score stats\n",
    "df_raw_box_score = generate_box_scores(df_box_score_data=df, \n",
    "                                       variables=list_variables,\n",
    "                                       lower_bound=95,\n",
    "                                       upper_bound=100,\n",
    "                                       n=20)\n",
    "\n",
    "df_raw_box_score"
   ]
  },
  {
   "attachments": {},
   "cell_type": "markdown",
   "id": "47b3ef20",
   "metadata": {},
   "source": [
    "# Data Viz\n",
    "\n",
    "## Tables"
   ]
  },
  {
   "cell_type": "code",
   "execution_count": 502,
   "id": "4032fb02",
   "metadata": {},
   "outputs": [],
   "source": [
    "### Set working environment for saving viz's\n",
    "directory = os.getcwd()\n",
    "\n",
    "# If path doesn't exist, create it\n",
    "if not os.path.exists(directory + \"\\data-viz\"):\n",
    "    os.mkdir(directory + \"\\data-viz\")"
   ]
  },
  {
   "cell_type": "code",
   "execution_count": 503,
   "id": "9d873651",
   "metadata": {},
   "outputs": [],
   "source": [
    "def color_negative_red(value):\n",
    "    \"\"\"\n",
    "    Colors elements in a dateframe green if above the threshold and red if negative. Does not color NaN values.\n",
    "    \n",
    "    Parameters\n",
    "    ----------\n",
    "    value: int \n",
    "        The number in the dataframe\n",
    "        \n",
    "    Returns \n",
    "    ----------\n",
    "    message: str\n",
    "        The color that the number will become\n",
    "        \n",
    "    \"\"\"\n",
    "    if value < 40:\n",
    "        color = 'red'\n",
    "    elif value >= 40:\n",
    "        color = 'green'\n",
    "    else:\n",
    "        color = 'black'\n",
    "\n",
    "    return f'color: {color}'"
   ]
  },
  {
   "cell_type": "code",
   "execution_count": 504,
   "id": "585aa37e",
   "metadata": {},
   "outputs": [],
   "source": [
    "def create_output_table(data, full):\n",
    "    \"\"\"\n",
    "    Derives the variables to have in the DataFrame table output.\n",
    "    \n",
    "    Parameters\n",
    "    ----------\n",
    "    data: pd.DataFrame\n",
    "        The dataframe with results from the 20 games\n",
    "        \n",
    "    full: boolean\n",
    "        Whether or not to create the full table, or just PTS/REB/AST\n",
    "        \n",
    "    Returns\n",
    "    ----------\n",
    "    answer: pd.DataFrame\n",
    "        The color coded dataframe\n",
    "    \"\"\"\n",
    "    df = data\n",
    "    \n",
    "    df['2P Att.'] = df['two_pa']\n",
    "    df['3P Att.'] = df['three_pa']\n",
    "    df['FT Att.'] = df['fta']\n",
    "    df['2P Made'] = df['two_pa'] * df['two_p_pct']\n",
    "    df['3P Made'] = df['three_pa'] * df['three_p_pct']\n",
    "    df['FT Made'] = df['fta'] * df['ft_pct']\n",
    "    \n",
    "    df['FG Made'] = df['2P Made'] + df['3P Made']\n",
    "    df['FG Att.'] = df['2P Att.'] + df['3P Att.']\n",
    "    df['FG%'] = (df['2P Made'] + df['3P Made']) / (df['2P Att.'] + df['3P Att.'])\n",
    "    df['2P%'] = df['two_p_pct']\n",
    "    df['3P%'] = df['three_p_pct']\n",
    "    df['FT%'] = df['ft_pct']\n",
    "    \n",
    "    df['Points'] = (2 * df['2P Made']) + (3 * df['3P Made']) + (1 * df['FT Made'])\n",
    "    df['Rebounds'] = df['orb'] + df['drb']\n",
    "    df['Assists'] = df['ast']\n",
    "    df['Steals'] =  df['stl']\n",
    "    df['Blocks'] =  df['blk']\n",
    "    \n",
    "    df['Turnovers'] = df['tov']\n",
    "    df['Assist/TO Ratio'] = df['Assists'] / df['Turnovers']\n",
    "    \n",
    "    answer = df.loc[: , 'Points': 'Assists'].copy()\n",
    "    \n",
    "    if full:\n",
    "        answer = df[['Points', 'Rebounds', 'Assists', 'Steals', 'Blocks', \n",
    "                     'FG Made', 'FG Att.', 'FG%',\n",
    "                     '2P Made', '2P Att.', '2P%',\n",
    "                     '3P Made', '3P Att.', '3P%',\n",
    "                     'FT Made', 'FT Att.', 'FT%',\n",
    "                     'Turnovers', 'Assist/TO Ratio'\n",
    "                    ]]\n",
    "        \n",
    "        answer['FG Made'] = round(answer['FG Made'], 0)\n",
    "        answer['2P Made'] = round(answer['2P Made'], 0)\n",
    "        answer['3P Made'] = round(answer['3P Made'], 0)\n",
    "        answer['FT Made'] = round(answer['FT Made'], 0)\n",
    "        \n",
    "    \n",
    "    answer['Points'] = round(answer['Points'], 0)\n",
    "    return answer"
   ]
  },
  {
   "attachments": {},
   "cell_type": "markdown",
   "id": "7f4af286",
   "metadata": {},
   "source": [
    "# Answer with Just PTS/REB/AST:"
   ]
  },
  {
   "cell_type": "code",
   "execution_count": 505,
   "id": "7cd70f79",
   "metadata": {},
   "outputs": [],
   "source": [
    "def create_plotly_table(data, name, title):\n",
    "    \"\"\"\n",
    "    Turns data into a neat plotly table.\n",
    "    \n",
    "    Parameters\n",
    "    ----------\n",
    "    data: pd.DataFrame\n",
    "        The box score data\n",
    "        \n",
    "    name: str\n",
    "        The name for the eventual .png file\n",
    "        \n",
    "    title: str\n",
    "        Title for the plot\n",
    "        \n",
    "    Parameters\n",
    "    ----------\n",
    "    fig: plotly Figure\n",
    "        The table output\n",
    "    \"\"\"\n",
    "    headerColor = 'black'\n",
    "    rowEvenColor = 'lightgrey'\n",
    "    rowOddColor = 'white'\n",
    "    \n",
    "    fig = go.Figure(data=[go.Table(\n",
    "    \n",
    "    columnorder = [1, 2, 3],\n",
    "    columnwidth = [20]*3,\n",
    "    \n",
    "    header=dict(values=list(data.columns),\n",
    "                line_color='darkslategray',\n",
    "                fill_color=headerColor,\n",
    "                align=['left','center'],\n",
    "                font=dict(color='white', size=12)),\n",
    "    \n",
    "    cells=dict(values=[col_data for (col_name, col_data) in data.items()],\n",
    "               fill_color = [[rowOddColor,rowEvenColor,rowOddColor, rowEvenColor,rowOddColor, rowEvenColor]*50],\n",
    "                align = ['left', 'center'],\n",
    "                font = dict(color = 'darkslategray', size = 10)\n",
    "              )\n",
    "    )])\n",
    "    \n",
    "    if name == 'full_output':\n",
    "        fig = go.Figure(data=[go.Table(\n",
    "    \n",
    "        columnorder = list(range(1, 20)),\n",
    "        columnwidth = [50]*19,\n",
    "\n",
    "        header=dict(values=list(data.columns),\n",
    "                    line_color='darkslategray',\n",
    "                    fill_color=headerColor,\n",
    "                    align=['left','center'],\n",
    "                    font=dict(color='white', size=12)),\n",
    "\n",
    "        cells=dict(values=[col_data for (col_name, col_data) in data.items()],\n",
    "                   fill_color = [[rowOddColor,rowEvenColor,rowOddColor, rowEvenColor,rowOddColor, rowEvenColor]*50],\n",
    "                    align = ['left', 'center'],\n",
    "                    font = dict(color = 'darkslategray', size = 10)\n",
    "                  )\n",
    "        )])\n",
    "        \n",
    "\n",
    "    # Save\n",
    "    fig.update_layout(\n",
    "        margin=dict(l=0,r=0,b=0,t=0),\n",
    "        autosize=False,\n",
    "        width=1000,\n",
    "        height=1600,)\n",
    "    \n",
    "    fig.update_layout(title_text=title)\n",
    "    return fig.show()"
   ]
  },
  {
   "cell_type": "code",
   "execution_count": 506,
   "id": "6bbff2f9",
   "metadata": {},
   "outputs": [
    {
     "data": {
      "application/vnd.plotly.v1+json": {
       "config": {
        "plotlyServerURL": "https://plot.ly"
       },
       "data": [
        {
         "cells": {
          "align": [
           "left",
           "center"
          ],
          "fill": {
           "color": [
            [
             "white",
             "lightgrey",
             "white",
             "lightgrey",
             "white",
             "lightgrey",
             "white",
             "lightgrey",
             "white",
             "lightgrey",
             "white",
             "lightgrey",
             "white",
             "lightgrey",
             "white",
             "lightgrey",
             "white",
             "lightgrey",
             "white",
             "lightgrey",
             "white",
             "lightgrey",
             "white",
             "lightgrey",
             "white",
             "lightgrey",
             "white",
             "lightgrey",
             "white",
             "lightgrey",
             "white",
             "lightgrey",
             "white",
             "lightgrey",
             "white",
             "lightgrey",
             "white",
             "lightgrey",
             "white",
             "lightgrey",
             "white",
             "lightgrey",
             "white",
             "lightgrey",
             "white",
             "lightgrey",
             "white",
             "lightgrey",
             "white",
             "lightgrey",
             "white",
             "lightgrey",
             "white",
             "lightgrey",
             "white",
             "lightgrey",
             "white",
             "lightgrey",
             "white",
             "lightgrey",
             "white",
             "lightgrey",
             "white",
             "lightgrey",
             "white",
             "lightgrey",
             "white",
             "lightgrey",
             "white",
             "lightgrey",
             "white",
             "lightgrey",
             "white",
             "lightgrey",
             "white",
             "lightgrey",
             "white",
             "lightgrey",
             "white",
             "lightgrey",
             "white",
             "lightgrey",
             "white",
             "lightgrey",
             "white",
             "lightgrey",
             "white",
             "lightgrey",
             "white",
             "lightgrey",
             "white",
             "lightgrey",
             "white",
             "lightgrey",
             "white",
             "lightgrey",
             "white",
             "lightgrey",
             "white",
             "lightgrey",
             "white",
             "lightgrey",
             "white",
             "lightgrey",
             "white",
             "lightgrey",
             "white",
             "lightgrey",
             "white",
             "lightgrey",
             "white",
             "lightgrey",
             "white",
             "lightgrey",
             "white",
             "lightgrey",
             "white",
             "lightgrey",
             "white",
             "lightgrey",
             "white",
             "lightgrey",
             "white",
             "lightgrey",
             "white",
             "lightgrey",
             "white",
             "lightgrey",
             "white",
             "lightgrey",
             "white",
             "lightgrey",
             "white",
             "lightgrey",
             "white",
             "lightgrey",
             "white",
             "lightgrey",
             "white",
             "lightgrey",
             "white",
             "lightgrey",
             "white",
             "lightgrey",
             "white",
             "lightgrey",
             "white",
             "lightgrey",
             "white",
             "lightgrey",
             "white",
             "lightgrey",
             "white",
             "lightgrey",
             "white",
             "lightgrey",
             "white",
             "lightgrey",
             "white",
             "lightgrey",
             "white",
             "lightgrey",
             "white",
             "lightgrey",
             "white",
             "lightgrey",
             "white",
             "lightgrey",
             "white",
             "lightgrey",
             "white",
             "lightgrey",
             "white",
             "lightgrey",
             "white",
             "lightgrey",
             "white",
             "lightgrey",
             "white",
             "lightgrey",
             "white",
             "lightgrey",
             "white",
             "lightgrey",
             "white",
             "lightgrey",
             "white",
             "lightgrey",
             "white",
             "lightgrey",
             "white",
             "lightgrey",
             "white",
             "lightgrey",
             "white",
             "lightgrey",
             "white",
             "lightgrey",
             "white",
             "lightgrey",
             "white",
             "lightgrey",
             "white",
             "lightgrey",
             "white",
             "lightgrey",
             "white",
             "lightgrey",
             "white",
             "lightgrey",
             "white",
             "lightgrey",
             "white",
             "lightgrey",
             "white",
             "lightgrey",
             "white",
             "lightgrey",
             "white",
             "lightgrey",
             "white",
             "lightgrey",
             "white",
             "lightgrey",
             "white",
             "lightgrey",
             "white",
             "lightgrey",
             "white",
             "lightgrey",
             "white",
             "lightgrey",
             "white",
             "lightgrey",
             "white",
             "lightgrey",
             "white",
             "lightgrey",
             "white",
             "lightgrey",
             "white",
             "lightgrey",
             "white",
             "lightgrey",
             "white",
             "lightgrey",
             "white",
             "lightgrey",
             "white",
             "lightgrey",
             "white",
             "lightgrey",
             "white",
             "lightgrey",
             "white",
             "lightgrey",
             "white",
             "lightgrey",
             "white",
             "lightgrey",
             "white",
             "lightgrey",
             "white",
             "lightgrey",
             "white",
             "lightgrey",
             "white",
             "lightgrey",
             "white",
             "lightgrey",
             "white",
             "lightgrey",
             "white",
             "lightgrey",
             "white",
             "lightgrey",
             "white",
             "lightgrey",
             "white",
             "lightgrey",
             "white",
             "lightgrey",
             "white",
             "lightgrey",
             "white",
             "lightgrey",
             "white",
             "lightgrey",
             "white",
             "lightgrey",
             "white",
             "lightgrey",
             "white",
             "lightgrey",
             "white",
             "lightgrey",
             "white",
             "lightgrey",
             "white",
             "lightgrey"
            ]
           ]
          },
          "font": {
           "color": "darkslategray",
           "size": 10
          },
          "values": [
           [
            73,
            68,
            60,
            34,
            49,
            58,
            45,
            57,
            78,
            60,
            37,
            54,
            49,
            54,
            58,
            54,
            51,
            58,
            39,
            45
           ],
           [
            15,
            16,
            13,
            10,
            10,
            16,
            8,
            13,
            8,
            18,
            12,
            8,
            10,
            15,
            9,
            14.639999999999418,
            10,
            13,
            12,
            9
           ],
           [
            6,
            7,
            6,
            8,
            10,
            5,
            6,
            5,
            9,
            8,
            5,
            7,
            8,
            11,
            7,
            7,
            3,
            12,
            6,
            4
           ]
          ]
         },
         "columnorder": [
          1,
          2,
          3
         ],
         "columnwidth": [
          20,
          20,
          20
         ],
         "header": {
          "align": [
           "left",
           "center"
          ],
          "fill": {
           "color": "black"
          },
          "font": {
           "color": "white",
           "size": 12
          },
          "line": {
           "color": "darkslategray"
          },
          "values": [
           "Points",
           "Rebounds",
           "Assists"
          ]
         },
         "type": "table"
        }
       ],
       "layout": {
        "autosize": false,
        "height": 1600,
        "margin": {
         "b": 0,
         "l": 0,
         "r": 0,
         "t": 0
        },
        "template": {
         "data": {
          "bar": [
           {
            "error_x": {
             "color": "#2a3f5f"
            },
            "error_y": {
             "color": "#2a3f5f"
            },
            "marker": {
             "line": {
              "color": "#E5ECF6",
              "width": 0.5
             },
             "pattern": {
              "fillmode": "overlay",
              "size": 10,
              "solidity": 0.2
             }
            },
            "type": "bar"
           }
          ],
          "barpolar": [
           {
            "marker": {
             "line": {
              "color": "#E5ECF6",
              "width": 0.5
             },
             "pattern": {
              "fillmode": "overlay",
              "size": 10,
              "solidity": 0.2
             }
            },
            "type": "barpolar"
           }
          ],
          "carpet": [
           {
            "aaxis": {
             "endlinecolor": "#2a3f5f",
             "gridcolor": "white",
             "linecolor": "white",
             "minorgridcolor": "white",
             "startlinecolor": "#2a3f5f"
            },
            "baxis": {
             "endlinecolor": "#2a3f5f",
             "gridcolor": "white",
             "linecolor": "white",
             "minorgridcolor": "white",
             "startlinecolor": "#2a3f5f"
            },
            "type": "carpet"
           }
          ],
          "choropleth": [
           {
            "colorbar": {
             "outlinewidth": 0,
             "ticks": ""
            },
            "type": "choropleth"
           }
          ],
          "contour": [
           {
            "colorbar": {
             "outlinewidth": 0,
             "ticks": ""
            },
            "colorscale": [
             [
              0,
              "#0d0887"
             ],
             [
              0.1111111111111111,
              "#46039f"
             ],
             [
              0.2222222222222222,
              "#7201a8"
             ],
             [
              0.3333333333333333,
              "#9c179e"
             ],
             [
              0.4444444444444444,
              "#bd3786"
             ],
             [
              0.5555555555555556,
              "#d8576b"
             ],
             [
              0.6666666666666666,
              "#ed7953"
             ],
             [
              0.7777777777777778,
              "#fb9f3a"
             ],
             [
              0.8888888888888888,
              "#fdca26"
             ],
             [
              1,
              "#f0f921"
             ]
            ],
            "type": "contour"
           }
          ],
          "contourcarpet": [
           {
            "colorbar": {
             "outlinewidth": 0,
             "ticks": ""
            },
            "type": "contourcarpet"
           }
          ],
          "heatmap": [
           {
            "colorbar": {
             "outlinewidth": 0,
             "ticks": ""
            },
            "colorscale": [
             [
              0,
              "#0d0887"
             ],
             [
              0.1111111111111111,
              "#46039f"
             ],
             [
              0.2222222222222222,
              "#7201a8"
             ],
             [
              0.3333333333333333,
              "#9c179e"
             ],
             [
              0.4444444444444444,
              "#bd3786"
             ],
             [
              0.5555555555555556,
              "#d8576b"
             ],
             [
              0.6666666666666666,
              "#ed7953"
             ],
             [
              0.7777777777777778,
              "#fb9f3a"
             ],
             [
              0.8888888888888888,
              "#fdca26"
             ],
             [
              1,
              "#f0f921"
             ]
            ],
            "type": "heatmap"
           }
          ],
          "heatmapgl": [
           {
            "colorbar": {
             "outlinewidth": 0,
             "ticks": ""
            },
            "colorscale": [
             [
              0,
              "#0d0887"
             ],
             [
              0.1111111111111111,
              "#46039f"
             ],
             [
              0.2222222222222222,
              "#7201a8"
             ],
             [
              0.3333333333333333,
              "#9c179e"
             ],
             [
              0.4444444444444444,
              "#bd3786"
             ],
             [
              0.5555555555555556,
              "#d8576b"
             ],
             [
              0.6666666666666666,
              "#ed7953"
             ],
             [
              0.7777777777777778,
              "#fb9f3a"
             ],
             [
              0.8888888888888888,
              "#fdca26"
             ],
             [
              1,
              "#f0f921"
             ]
            ],
            "type": "heatmapgl"
           }
          ],
          "histogram": [
           {
            "marker": {
             "pattern": {
              "fillmode": "overlay",
              "size": 10,
              "solidity": 0.2
             }
            },
            "type": "histogram"
           }
          ],
          "histogram2d": [
           {
            "colorbar": {
             "outlinewidth": 0,
             "ticks": ""
            },
            "colorscale": [
             [
              0,
              "#0d0887"
             ],
             [
              0.1111111111111111,
              "#46039f"
             ],
             [
              0.2222222222222222,
              "#7201a8"
             ],
             [
              0.3333333333333333,
              "#9c179e"
             ],
             [
              0.4444444444444444,
              "#bd3786"
             ],
             [
              0.5555555555555556,
              "#d8576b"
             ],
             [
              0.6666666666666666,
              "#ed7953"
             ],
             [
              0.7777777777777778,
              "#fb9f3a"
             ],
             [
              0.8888888888888888,
              "#fdca26"
             ],
             [
              1,
              "#f0f921"
             ]
            ],
            "type": "histogram2d"
           }
          ],
          "histogram2dcontour": [
           {
            "colorbar": {
             "outlinewidth": 0,
             "ticks": ""
            },
            "colorscale": [
             [
              0,
              "#0d0887"
             ],
             [
              0.1111111111111111,
              "#46039f"
             ],
             [
              0.2222222222222222,
              "#7201a8"
             ],
             [
              0.3333333333333333,
              "#9c179e"
             ],
             [
              0.4444444444444444,
              "#bd3786"
             ],
             [
              0.5555555555555556,
              "#d8576b"
             ],
             [
              0.6666666666666666,
              "#ed7953"
             ],
             [
              0.7777777777777778,
              "#fb9f3a"
             ],
             [
              0.8888888888888888,
              "#fdca26"
             ],
             [
              1,
              "#f0f921"
             ]
            ],
            "type": "histogram2dcontour"
           }
          ],
          "mesh3d": [
           {
            "colorbar": {
             "outlinewidth": 0,
             "ticks": ""
            },
            "type": "mesh3d"
           }
          ],
          "parcoords": [
           {
            "line": {
             "colorbar": {
              "outlinewidth": 0,
              "ticks": ""
             }
            },
            "type": "parcoords"
           }
          ],
          "pie": [
           {
            "automargin": true,
            "type": "pie"
           }
          ],
          "scatter": [
           {
            "fillpattern": {
             "fillmode": "overlay",
             "size": 10,
             "solidity": 0.2
            },
            "type": "scatter"
           }
          ],
          "scatter3d": [
           {
            "line": {
             "colorbar": {
              "outlinewidth": 0,
              "ticks": ""
             }
            },
            "marker": {
             "colorbar": {
              "outlinewidth": 0,
              "ticks": ""
             }
            },
            "type": "scatter3d"
           }
          ],
          "scattercarpet": [
           {
            "marker": {
             "colorbar": {
              "outlinewidth": 0,
              "ticks": ""
             }
            },
            "type": "scattercarpet"
           }
          ],
          "scattergeo": [
           {
            "marker": {
             "colorbar": {
              "outlinewidth": 0,
              "ticks": ""
             }
            },
            "type": "scattergeo"
           }
          ],
          "scattergl": [
           {
            "marker": {
             "colorbar": {
              "outlinewidth": 0,
              "ticks": ""
             }
            },
            "type": "scattergl"
           }
          ],
          "scattermapbox": [
           {
            "marker": {
             "colorbar": {
              "outlinewidth": 0,
              "ticks": ""
             }
            },
            "type": "scattermapbox"
           }
          ],
          "scatterpolar": [
           {
            "marker": {
             "colorbar": {
              "outlinewidth": 0,
              "ticks": ""
             }
            },
            "type": "scatterpolar"
           }
          ],
          "scatterpolargl": [
           {
            "marker": {
             "colorbar": {
              "outlinewidth": 0,
              "ticks": ""
             }
            },
            "type": "scatterpolargl"
           }
          ],
          "scatterternary": [
           {
            "marker": {
             "colorbar": {
              "outlinewidth": 0,
              "ticks": ""
             }
            },
            "type": "scatterternary"
           }
          ],
          "surface": [
           {
            "colorbar": {
             "outlinewidth": 0,
             "ticks": ""
            },
            "colorscale": [
             [
              0,
              "#0d0887"
             ],
             [
              0.1111111111111111,
              "#46039f"
             ],
             [
              0.2222222222222222,
              "#7201a8"
             ],
             [
              0.3333333333333333,
              "#9c179e"
             ],
             [
              0.4444444444444444,
              "#bd3786"
             ],
             [
              0.5555555555555556,
              "#d8576b"
             ],
             [
              0.6666666666666666,
              "#ed7953"
             ],
             [
              0.7777777777777778,
              "#fb9f3a"
             ],
             [
              0.8888888888888888,
              "#fdca26"
             ],
             [
              1,
              "#f0f921"
             ]
            ],
            "type": "surface"
           }
          ],
          "table": [
           {
            "cells": {
             "fill": {
              "color": "#EBF0F8"
             },
             "line": {
              "color": "white"
             }
            },
            "header": {
             "fill": {
              "color": "#C8D4E3"
             },
             "line": {
              "color": "white"
             }
            },
            "type": "table"
           }
          ]
         },
         "layout": {
          "annotationdefaults": {
           "arrowcolor": "#2a3f5f",
           "arrowhead": 0,
           "arrowwidth": 1
          },
          "autotypenumbers": "strict",
          "coloraxis": {
           "colorbar": {
            "outlinewidth": 0,
            "ticks": ""
           }
          },
          "colorscale": {
           "diverging": [
            [
             0,
             "#8e0152"
            ],
            [
             0.1,
             "#c51b7d"
            ],
            [
             0.2,
             "#de77ae"
            ],
            [
             0.3,
             "#f1b6da"
            ],
            [
             0.4,
             "#fde0ef"
            ],
            [
             0.5,
             "#f7f7f7"
            ],
            [
             0.6,
             "#e6f5d0"
            ],
            [
             0.7,
             "#b8e186"
            ],
            [
             0.8,
             "#7fbc41"
            ],
            [
             0.9,
             "#4d9221"
            ],
            [
             1,
             "#276419"
            ]
           ],
           "sequential": [
            [
             0,
             "#0d0887"
            ],
            [
             0.1111111111111111,
             "#46039f"
            ],
            [
             0.2222222222222222,
             "#7201a8"
            ],
            [
             0.3333333333333333,
             "#9c179e"
            ],
            [
             0.4444444444444444,
             "#bd3786"
            ],
            [
             0.5555555555555556,
             "#d8576b"
            ],
            [
             0.6666666666666666,
             "#ed7953"
            ],
            [
             0.7777777777777778,
             "#fb9f3a"
            ],
            [
             0.8888888888888888,
             "#fdca26"
            ],
            [
             1,
             "#f0f921"
            ]
           ],
           "sequentialminus": [
            [
             0,
             "#0d0887"
            ],
            [
             0.1111111111111111,
             "#46039f"
            ],
            [
             0.2222222222222222,
             "#7201a8"
            ],
            [
             0.3333333333333333,
             "#9c179e"
            ],
            [
             0.4444444444444444,
             "#bd3786"
            ],
            [
             0.5555555555555556,
             "#d8576b"
            ],
            [
             0.6666666666666666,
             "#ed7953"
            ],
            [
             0.7777777777777778,
             "#fb9f3a"
            ],
            [
             0.8888888888888888,
             "#fdca26"
            ],
            [
             1,
             "#f0f921"
            ]
           ]
          },
          "colorway": [
           "#636efa",
           "#EF553B",
           "#00cc96",
           "#ab63fa",
           "#FFA15A",
           "#19d3f3",
           "#FF6692",
           "#B6E880",
           "#FF97FF",
           "#FECB52"
          ],
          "font": {
           "color": "#2a3f5f"
          },
          "geo": {
           "bgcolor": "white",
           "lakecolor": "white",
           "landcolor": "#E5ECF6",
           "showlakes": true,
           "showland": true,
           "subunitcolor": "white"
          },
          "hoverlabel": {
           "align": "left"
          },
          "hovermode": "closest",
          "mapbox": {
           "style": "light"
          },
          "paper_bgcolor": "white",
          "plot_bgcolor": "#E5ECF6",
          "polar": {
           "angularaxis": {
            "gridcolor": "white",
            "linecolor": "white",
            "ticks": ""
           },
           "bgcolor": "#E5ECF6",
           "radialaxis": {
            "gridcolor": "white",
            "linecolor": "white",
            "ticks": ""
           }
          },
          "scene": {
           "xaxis": {
            "backgroundcolor": "#E5ECF6",
            "gridcolor": "white",
            "gridwidth": 2,
            "linecolor": "white",
            "showbackground": true,
            "ticks": "",
            "zerolinecolor": "white"
           },
           "yaxis": {
            "backgroundcolor": "#E5ECF6",
            "gridcolor": "white",
            "gridwidth": 2,
            "linecolor": "white",
            "showbackground": true,
            "ticks": "",
            "zerolinecolor": "white"
           },
           "zaxis": {
            "backgroundcolor": "#E5ECF6",
            "gridcolor": "white",
            "gridwidth": 2,
            "linecolor": "white",
            "showbackground": true,
            "ticks": "",
            "zerolinecolor": "white"
           }
          },
          "shapedefaults": {
           "line": {
            "color": "#2a3f5f"
           }
          },
          "ternary": {
           "aaxis": {
            "gridcolor": "white",
            "linecolor": "white",
            "ticks": ""
           },
           "baxis": {
            "gridcolor": "white",
            "linecolor": "white",
            "ticks": ""
           },
           "bgcolor": "#E5ECF6",
           "caxis": {
            "gridcolor": "white",
            "linecolor": "white",
            "ticks": ""
           }
          },
          "title": {
           "x": 0.05
          },
          "xaxis": {
           "automargin": true,
           "gridcolor": "white",
           "linecolor": "white",
           "ticks": "",
           "title": {
            "standoff": 15
           },
           "zerolinecolor": "white",
           "zerolinewidth": 2
          },
          "yaxis": {
           "automargin": true,
           "gridcolor": "white",
           "linecolor": "white",
           "ticks": "",
           "title": {
            "standoff": 15
           },
           "zerolinecolor": "white",
           "zerolinewidth": 2
          }
         }
        },
        "title": {
         "text": "Points, Rebounds, and Assists from 20 Games"
        },
        "width": 1000
       }
      }
     },
     "metadata": {},
     "output_type": "display_data"
    }
   ],
   "source": [
    "data = create_output_table(data=df_raw_box_score, full=False)\n",
    "\n",
    "create_plotly_table(data=data, name='condensed_output', title='Points, Rebounds, and Assists from 20 Games')"
   ]
  },
  {
   "attachments": {},
   "cell_type": "markdown",
   "id": "93fe8d8a",
   "metadata": {},
   "source": [
    "# Table with more measures:"
   ]
  },
  {
   "cell_type": "code",
   "execution_count": 507,
   "id": "eff95eb7",
   "metadata": {},
   "outputs": [
    {
     "data": {
      "application/vnd.plotly.v1+json": {
       "config": {
        "plotlyServerURL": "https://plot.ly"
       },
       "data": [
        {
         "cells": {
          "align": [
           "left",
           "center"
          ],
          "fill": {
           "color": [
            [
             "white",
             "lightgrey",
             "white",
             "lightgrey",
             "white",
             "lightgrey",
             "white",
             "lightgrey",
             "white",
             "lightgrey",
             "white",
             "lightgrey",
             "white",
             "lightgrey",
             "white",
             "lightgrey",
             "white",
             "lightgrey",
             "white",
             "lightgrey",
             "white",
             "lightgrey",
             "white",
             "lightgrey",
             "white",
             "lightgrey",
             "white",
             "lightgrey",
             "white",
             "lightgrey",
             "white",
             "lightgrey",
             "white",
             "lightgrey",
             "white",
             "lightgrey",
             "white",
             "lightgrey",
             "white",
             "lightgrey",
             "white",
             "lightgrey",
             "white",
             "lightgrey",
             "white",
             "lightgrey",
             "white",
             "lightgrey",
             "white",
             "lightgrey",
             "white",
             "lightgrey",
             "white",
             "lightgrey",
             "white",
             "lightgrey",
             "white",
             "lightgrey",
             "white",
             "lightgrey",
             "white",
             "lightgrey",
             "white",
             "lightgrey",
             "white",
             "lightgrey",
             "white",
             "lightgrey",
             "white",
             "lightgrey",
             "white",
             "lightgrey",
             "white",
             "lightgrey",
             "white",
             "lightgrey",
             "white",
             "lightgrey",
             "white",
             "lightgrey",
             "white",
             "lightgrey",
             "white",
             "lightgrey",
             "white",
             "lightgrey",
             "white",
             "lightgrey",
             "white",
             "lightgrey",
             "white",
             "lightgrey",
             "white",
             "lightgrey",
             "white",
             "lightgrey",
             "white",
             "lightgrey",
             "white",
             "lightgrey",
             "white",
             "lightgrey",
             "white",
             "lightgrey",
             "white",
             "lightgrey",
             "white",
             "lightgrey",
             "white",
             "lightgrey",
             "white",
             "lightgrey",
             "white",
             "lightgrey",
             "white",
             "lightgrey",
             "white",
             "lightgrey",
             "white",
             "lightgrey",
             "white",
             "lightgrey",
             "white",
             "lightgrey",
             "white",
             "lightgrey",
             "white",
             "lightgrey",
             "white",
             "lightgrey",
             "white",
             "lightgrey",
             "white",
             "lightgrey",
             "white",
             "lightgrey",
             "white",
             "lightgrey",
             "white",
             "lightgrey",
             "white",
             "lightgrey",
             "white",
             "lightgrey",
             "white",
             "lightgrey",
             "white",
             "lightgrey",
             "white",
             "lightgrey",
             "white",
             "lightgrey",
             "white",
             "lightgrey",
             "white",
             "lightgrey",
             "white",
             "lightgrey",
             "white",
             "lightgrey",
             "white",
             "lightgrey",
             "white",
             "lightgrey",
             "white",
             "lightgrey",
             "white",
             "lightgrey",
             "white",
             "lightgrey",
             "white",
             "lightgrey",
             "white",
             "lightgrey",
             "white",
             "lightgrey",
             "white",
             "lightgrey",
             "white",
             "lightgrey",
             "white",
             "lightgrey",
             "white",
             "lightgrey",
             "white",
             "lightgrey",
             "white",
             "lightgrey",
             "white",
             "lightgrey",
             "white",
             "lightgrey",
             "white",
             "lightgrey",
             "white",
             "lightgrey",
             "white",
             "lightgrey",
             "white",
             "lightgrey",
             "white",
             "lightgrey",
             "white",
             "lightgrey",
             "white",
             "lightgrey",
             "white",
             "lightgrey",
             "white",
             "lightgrey",
             "white",
             "lightgrey",
             "white",
             "lightgrey",
             "white",
             "lightgrey",
             "white",
             "lightgrey",
             "white",
             "lightgrey",
             "white",
             "lightgrey",
             "white",
             "lightgrey",
             "white",
             "lightgrey",
             "white",
             "lightgrey",
             "white",
             "lightgrey",
             "white",
             "lightgrey",
             "white",
             "lightgrey",
             "white",
             "lightgrey",
             "white",
             "lightgrey",
             "white",
             "lightgrey",
             "white",
             "lightgrey",
             "white",
             "lightgrey",
             "white",
             "lightgrey",
             "white",
             "lightgrey",
             "white",
             "lightgrey",
             "white",
             "lightgrey",
             "white",
             "lightgrey",
             "white",
             "lightgrey",
             "white",
             "lightgrey",
             "white",
             "lightgrey",
             "white",
             "lightgrey",
             "white",
             "lightgrey",
             "white",
             "lightgrey",
             "white",
             "lightgrey",
             "white",
             "lightgrey",
             "white",
             "lightgrey",
             "white",
             "lightgrey",
             "white",
             "lightgrey",
             "white",
             "lightgrey",
             "white",
             "lightgrey",
             "white",
             "lightgrey",
             "white",
             "lightgrey",
             "white",
             "lightgrey",
             "white",
             "lightgrey",
             "white",
             "lightgrey",
             "white",
             "lightgrey",
             "white",
             "lightgrey",
             "white",
             "lightgrey",
             "white",
             "lightgrey",
             "white",
             "lightgrey"
            ]
           ]
          },
          "font": {
           "color": "darkslategray",
           "size": 10
          },
          "values": [
           [
            "73",
            "68",
            "60",
            "34",
            "49",
            "58",
            "45",
            "57",
            "78",
            "60",
            "37",
            "54",
            "49",
            "54",
            "58",
            "54",
            "51",
            "58",
            "39",
            "45"
           ],
           [
            "15",
            "16",
            "13",
            "10",
            "10",
            "16",
            "8",
            "13",
            "8",
            "18",
            "12",
            "8",
            "10",
            "15",
            "9",
            "15",
            "10",
            "13",
            "12",
            "9"
           ],
           [
            "6",
            "7",
            "6",
            "8",
            "10",
            "5",
            "6",
            "5",
            "9",
            "8",
            "5",
            "7",
            "8",
            "11",
            "7",
            "7",
            "3",
            "12",
            "6",
            "4"
           ],
           [
            "1",
            "1",
            "4",
            "2",
            "2",
            "1",
            "1",
            "2",
            "1",
            "0",
            "4",
            "1",
            "2",
            "1",
            "2",
            "1",
            "2",
            "1",
            "3",
            "4"
           ],
           [
            "4",
            "3",
            "4",
            "3",
            "2",
            "1",
            "3",
            "2",
            "4",
            "3",
            "2",
            "4",
            "5",
            "0",
            "0",
            "0",
            "1",
            "0",
            "3",
            "0"
           ],
           [
            "29",
            "26",
            "23",
            "10",
            "18",
            "22",
            "16",
            "24",
            "30",
            "21",
            "11",
            "20",
            "18",
            "19",
            "20",
            "21",
            "19",
            "22",
            "15",
            "18"
           ],
           [
            "29",
            "31",
            "23",
            "17",
            "23",
            "22",
            "20",
            "24",
            "34",
            "27",
            "16",
            "28",
            "26",
            "26",
            "25",
            "32",
            "22",
            "22",
            "18",
            "24"
           ],
           [
            "100.0%",
            "84.1%",
            "100.0%",
            "60.8%",
            "80.2%",
            "100.0%",
            "81.4%",
            "100.0%",
            "89.2%",
            "76.5%",
            "71.8%",
            "71.0%",
            "69.2%",
            "73.6%",
            "81.7%",
            "66.7%",
            "84.7%",
            "100.0%",
            "83.3%",
            "76.9%"
           ],
           [
            "18",
            "19",
            "18",
            "7",
            "12",
            "15",
            "10",
            "17",
            "18",
            "13",
            "5",
            "17",
            "13",
            "9",
            "11",
            "14",
            "15",
            "12",
            "12",
            "15"
           ],
           [
            "18",
            "22",
            "18",
            "11",
            "14",
            "15",
            "12",
            "17",
            "22",
            "19",
            "10",
            "20",
            "13",
            "16",
            "13",
            "21",
            "17",
            "12",
            "12",
            "15"
           ],
           [
            "100.0%",
            "85.7%",
            "100.0%",
            "66.7%",
            "88.9%",
            "100.0%",
            "85.7%",
            "100.0%",
            "83.3%",
            "66.7%",
            "54.9%",
            "83.3%",
            "100.0%",
            "57.1%",
            "83.3%",
            "66.7%",
            "90.0%",
            "100.0%",
            "100.0%",
            "100.0%"
           ],
           [
            "11",
            "7",
            "5",
            "3",
            "6",
            "7",
            "6",
            "7",
            "12",
            "8",
            "6",
            "3",
            "5",
            "10",
            "10",
            "7",
            "3",
            "10",
            "3",
            "3"
           ],
           [
            "11",
            "9",
            "5",
            "6",
            "9",
            "7",
            "8",
            "7",
            "12",
            "8",
            "6",
            "8",
            "13",
            "10",
            "12",
            "11",
            "5",
            "10",
            "6",
            "9"
           ],
           [
            "100.0%",
            "80.0%",
            "100.0%",
            "50.0%",
            "66.7%",
            "100.0%",
            "75.0%",
            "100.0%",
            "100.0%",
            "100.0%",
            "100.0%",
            "40.0%",
            "38.5%",
            "100.0%",
            "80.0%",
            "66.7%",
            "66.7%",
            "100.0%",
            "50.0%",
            "38.5%"
           ],
           [
            "4",
            "9",
            "9",
            "10",
            "6",
            "7",
            "6",
            "2",
            "5",
            "11",
            "8",
            "11",
            "8",
            "6",
            "8",
            "4",
            "10",
            "4",
            "6",
            "5"
           ],
           [
            "4",
            "9",
            "9",
            "10",
            "6",
            "7",
            "6",
            "2",
            "5",
            "11",
            "8",
            "11",
            "8",
            "6",
            "8",
            "4",
            "10",
            "4",
            "6",
            "5"
           ],
           [
            "100.0%",
            "100.0%",
            "100.0%",
            "100.0%",
            "100.0%",
            "100.0%",
            "100.0%",
            "100.0%",
            "100.0%",
            "100.0%",
            "100.0%",
            "100.0%",
            "100.0%",
            "100.0%",
            "100.0%",
            "100.0%",
            "100.0%",
            "100.0%",
            "100.0%",
            "100.0%"
           ],
           [
            "0",
            "0",
            "1",
            "0",
            "0",
            "0",
            "0",
            "0",
            "0",
            "0",
            "0",
            "0",
            "0",
            "1",
            "0",
            "0",
            "0",
            "0",
            "1",
            "0"
           ],
           [
            "inf",
            "inf",
            "6",
            "inf",
            "inf",
            "inf",
            "inf",
            "inf",
            "inf",
            "inf",
            "inf",
            "inf",
            "inf",
            "11",
            "inf",
            "inf",
            "inf",
            "inf",
            "6",
            "inf"
           ]
          ]
         },
         "columnorder": [
          1,
          2,
          3,
          4,
          5,
          6,
          7,
          8,
          9,
          10,
          11,
          12,
          13,
          14,
          15,
          16,
          17,
          18,
          19
         ],
         "columnwidth": [
          50,
          50,
          50,
          50,
          50,
          50,
          50,
          50,
          50,
          50,
          50,
          50,
          50,
          50,
          50,
          50,
          50,
          50,
          50
         ],
         "header": {
          "align": [
           "left",
           "center"
          ],
          "fill": {
           "color": "black"
          },
          "font": {
           "color": "white",
           "size": 12
          },
          "line": {
           "color": "darkslategray"
          },
          "values": [
           "Points",
           "Rebounds",
           "Assists",
           "Steals",
           "Blocks",
           "FG Made",
           "FG Att.",
           "FG%",
           "2P Made",
           "2P Att.",
           "2P%",
           "3P Made",
           "3P Att.",
           "3P%",
           "FT Made",
           "FT Att.",
           "FT%",
           "Turnovers",
           "Assist/TO Ratio"
          ]
         },
         "type": "table"
        }
       ],
       "layout": {
        "autosize": false,
        "height": 1600,
        "margin": {
         "b": 0,
         "l": 0,
         "r": 0,
         "t": 0
        },
        "template": {
         "data": {
          "bar": [
           {
            "error_x": {
             "color": "#2a3f5f"
            },
            "error_y": {
             "color": "#2a3f5f"
            },
            "marker": {
             "line": {
              "color": "#E5ECF6",
              "width": 0.5
             },
             "pattern": {
              "fillmode": "overlay",
              "size": 10,
              "solidity": 0.2
             }
            },
            "type": "bar"
           }
          ],
          "barpolar": [
           {
            "marker": {
             "line": {
              "color": "#E5ECF6",
              "width": 0.5
             },
             "pattern": {
              "fillmode": "overlay",
              "size": 10,
              "solidity": 0.2
             }
            },
            "type": "barpolar"
           }
          ],
          "carpet": [
           {
            "aaxis": {
             "endlinecolor": "#2a3f5f",
             "gridcolor": "white",
             "linecolor": "white",
             "minorgridcolor": "white",
             "startlinecolor": "#2a3f5f"
            },
            "baxis": {
             "endlinecolor": "#2a3f5f",
             "gridcolor": "white",
             "linecolor": "white",
             "minorgridcolor": "white",
             "startlinecolor": "#2a3f5f"
            },
            "type": "carpet"
           }
          ],
          "choropleth": [
           {
            "colorbar": {
             "outlinewidth": 0,
             "ticks": ""
            },
            "type": "choropleth"
           }
          ],
          "contour": [
           {
            "colorbar": {
             "outlinewidth": 0,
             "ticks": ""
            },
            "colorscale": [
             [
              0,
              "#0d0887"
             ],
             [
              0.1111111111111111,
              "#46039f"
             ],
             [
              0.2222222222222222,
              "#7201a8"
             ],
             [
              0.3333333333333333,
              "#9c179e"
             ],
             [
              0.4444444444444444,
              "#bd3786"
             ],
             [
              0.5555555555555556,
              "#d8576b"
             ],
             [
              0.6666666666666666,
              "#ed7953"
             ],
             [
              0.7777777777777778,
              "#fb9f3a"
             ],
             [
              0.8888888888888888,
              "#fdca26"
             ],
             [
              1,
              "#f0f921"
             ]
            ],
            "type": "contour"
           }
          ],
          "contourcarpet": [
           {
            "colorbar": {
             "outlinewidth": 0,
             "ticks": ""
            },
            "type": "contourcarpet"
           }
          ],
          "heatmap": [
           {
            "colorbar": {
             "outlinewidth": 0,
             "ticks": ""
            },
            "colorscale": [
             [
              0,
              "#0d0887"
             ],
             [
              0.1111111111111111,
              "#46039f"
             ],
             [
              0.2222222222222222,
              "#7201a8"
             ],
             [
              0.3333333333333333,
              "#9c179e"
             ],
             [
              0.4444444444444444,
              "#bd3786"
             ],
             [
              0.5555555555555556,
              "#d8576b"
             ],
             [
              0.6666666666666666,
              "#ed7953"
             ],
             [
              0.7777777777777778,
              "#fb9f3a"
             ],
             [
              0.8888888888888888,
              "#fdca26"
             ],
             [
              1,
              "#f0f921"
             ]
            ],
            "type": "heatmap"
           }
          ],
          "heatmapgl": [
           {
            "colorbar": {
             "outlinewidth": 0,
             "ticks": ""
            },
            "colorscale": [
             [
              0,
              "#0d0887"
             ],
             [
              0.1111111111111111,
              "#46039f"
             ],
             [
              0.2222222222222222,
              "#7201a8"
             ],
             [
              0.3333333333333333,
              "#9c179e"
             ],
             [
              0.4444444444444444,
              "#bd3786"
             ],
             [
              0.5555555555555556,
              "#d8576b"
             ],
             [
              0.6666666666666666,
              "#ed7953"
             ],
             [
              0.7777777777777778,
              "#fb9f3a"
             ],
             [
              0.8888888888888888,
              "#fdca26"
             ],
             [
              1,
              "#f0f921"
             ]
            ],
            "type": "heatmapgl"
           }
          ],
          "histogram": [
           {
            "marker": {
             "pattern": {
              "fillmode": "overlay",
              "size": 10,
              "solidity": 0.2
             }
            },
            "type": "histogram"
           }
          ],
          "histogram2d": [
           {
            "colorbar": {
             "outlinewidth": 0,
             "ticks": ""
            },
            "colorscale": [
             [
              0,
              "#0d0887"
             ],
             [
              0.1111111111111111,
              "#46039f"
             ],
             [
              0.2222222222222222,
              "#7201a8"
             ],
             [
              0.3333333333333333,
              "#9c179e"
             ],
             [
              0.4444444444444444,
              "#bd3786"
             ],
             [
              0.5555555555555556,
              "#d8576b"
             ],
             [
              0.6666666666666666,
              "#ed7953"
             ],
             [
              0.7777777777777778,
              "#fb9f3a"
             ],
             [
              0.8888888888888888,
              "#fdca26"
             ],
             [
              1,
              "#f0f921"
             ]
            ],
            "type": "histogram2d"
           }
          ],
          "histogram2dcontour": [
           {
            "colorbar": {
             "outlinewidth": 0,
             "ticks": ""
            },
            "colorscale": [
             [
              0,
              "#0d0887"
             ],
             [
              0.1111111111111111,
              "#46039f"
             ],
             [
              0.2222222222222222,
              "#7201a8"
             ],
             [
              0.3333333333333333,
              "#9c179e"
             ],
             [
              0.4444444444444444,
              "#bd3786"
             ],
             [
              0.5555555555555556,
              "#d8576b"
             ],
             [
              0.6666666666666666,
              "#ed7953"
             ],
             [
              0.7777777777777778,
              "#fb9f3a"
             ],
             [
              0.8888888888888888,
              "#fdca26"
             ],
             [
              1,
              "#f0f921"
             ]
            ],
            "type": "histogram2dcontour"
           }
          ],
          "mesh3d": [
           {
            "colorbar": {
             "outlinewidth": 0,
             "ticks": ""
            },
            "type": "mesh3d"
           }
          ],
          "parcoords": [
           {
            "line": {
             "colorbar": {
              "outlinewidth": 0,
              "ticks": ""
             }
            },
            "type": "parcoords"
           }
          ],
          "pie": [
           {
            "automargin": true,
            "type": "pie"
           }
          ],
          "scatter": [
           {
            "fillpattern": {
             "fillmode": "overlay",
             "size": 10,
             "solidity": 0.2
            },
            "type": "scatter"
           }
          ],
          "scatter3d": [
           {
            "line": {
             "colorbar": {
              "outlinewidth": 0,
              "ticks": ""
             }
            },
            "marker": {
             "colorbar": {
              "outlinewidth": 0,
              "ticks": ""
             }
            },
            "type": "scatter3d"
           }
          ],
          "scattercarpet": [
           {
            "marker": {
             "colorbar": {
              "outlinewidth": 0,
              "ticks": ""
             }
            },
            "type": "scattercarpet"
           }
          ],
          "scattergeo": [
           {
            "marker": {
             "colorbar": {
              "outlinewidth": 0,
              "ticks": ""
             }
            },
            "type": "scattergeo"
           }
          ],
          "scattergl": [
           {
            "marker": {
             "colorbar": {
              "outlinewidth": 0,
              "ticks": ""
             }
            },
            "type": "scattergl"
           }
          ],
          "scattermapbox": [
           {
            "marker": {
             "colorbar": {
              "outlinewidth": 0,
              "ticks": ""
             }
            },
            "type": "scattermapbox"
           }
          ],
          "scatterpolar": [
           {
            "marker": {
             "colorbar": {
              "outlinewidth": 0,
              "ticks": ""
             }
            },
            "type": "scatterpolar"
           }
          ],
          "scatterpolargl": [
           {
            "marker": {
             "colorbar": {
              "outlinewidth": 0,
              "ticks": ""
             }
            },
            "type": "scatterpolargl"
           }
          ],
          "scatterternary": [
           {
            "marker": {
             "colorbar": {
              "outlinewidth": 0,
              "ticks": ""
             }
            },
            "type": "scatterternary"
           }
          ],
          "surface": [
           {
            "colorbar": {
             "outlinewidth": 0,
             "ticks": ""
            },
            "colorscale": [
             [
              0,
              "#0d0887"
             ],
             [
              0.1111111111111111,
              "#46039f"
             ],
             [
              0.2222222222222222,
              "#7201a8"
             ],
             [
              0.3333333333333333,
              "#9c179e"
             ],
             [
              0.4444444444444444,
              "#bd3786"
             ],
             [
              0.5555555555555556,
              "#d8576b"
             ],
             [
              0.6666666666666666,
              "#ed7953"
             ],
             [
              0.7777777777777778,
              "#fb9f3a"
             ],
             [
              0.8888888888888888,
              "#fdca26"
             ],
             [
              1,
              "#f0f921"
             ]
            ],
            "type": "surface"
           }
          ],
          "table": [
           {
            "cells": {
             "fill": {
              "color": "#EBF0F8"
             },
             "line": {
              "color": "white"
             }
            },
            "header": {
             "fill": {
              "color": "#C8D4E3"
             },
             "line": {
              "color": "white"
             }
            },
            "type": "table"
           }
          ]
         },
         "layout": {
          "annotationdefaults": {
           "arrowcolor": "#2a3f5f",
           "arrowhead": 0,
           "arrowwidth": 1
          },
          "autotypenumbers": "strict",
          "coloraxis": {
           "colorbar": {
            "outlinewidth": 0,
            "ticks": ""
           }
          },
          "colorscale": {
           "diverging": [
            [
             0,
             "#8e0152"
            ],
            [
             0.1,
             "#c51b7d"
            ],
            [
             0.2,
             "#de77ae"
            ],
            [
             0.3,
             "#f1b6da"
            ],
            [
             0.4,
             "#fde0ef"
            ],
            [
             0.5,
             "#f7f7f7"
            ],
            [
             0.6,
             "#e6f5d0"
            ],
            [
             0.7,
             "#b8e186"
            ],
            [
             0.8,
             "#7fbc41"
            ],
            [
             0.9,
             "#4d9221"
            ],
            [
             1,
             "#276419"
            ]
           ],
           "sequential": [
            [
             0,
             "#0d0887"
            ],
            [
             0.1111111111111111,
             "#46039f"
            ],
            [
             0.2222222222222222,
             "#7201a8"
            ],
            [
             0.3333333333333333,
             "#9c179e"
            ],
            [
             0.4444444444444444,
             "#bd3786"
            ],
            [
             0.5555555555555556,
             "#d8576b"
            ],
            [
             0.6666666666666666,
             "#ed7953"
            ],
            [
             0.7777777777777778,
             "#fb9f3a"
            ],
            [
             0.8888888888888888,
             "#fdca26"
            ],
            [
             1,
             "#f0f921"
            ]
           ],
           "sequentialminus": [
            [
             0,
             "#0d0887"
            ],
            [
             0.1111111111111111,
             "#46039f"
            ],
            [
             0.2222222222222222,
             "#7201a8"
            ],
            [
             0.3333333333333333,
             "#9c179e"
            ],
            [
             0.4444444444444444,
             "#bd3786"
            ],
            [
             0.5555555555555556,
             "#d8576b"
            ],
            [
             0.6666666666666666,
             "#ed7953"
            ],
            [
             0.7777777777777778,
             "#fb9f3a"
            ],
            [
             0.8888888888888888,
             "#fdca26"
            ],
            [
             1,
             "#f0f921"
            ]
           ]
          },
          "colorway": [
           "#636efa",
           "#EF553B",
           "#00cc96",
           "#ab63fa",
           "#FFA15A",
           "#19d3f3",
           "#FF6692",
           "#B6E880",
           "#FF97FF",
           "#FECB52"
          ],
          "font": {
           "color": "#2a3f5f"
          },
          "geo": {
           "bgcolor": "white",
           "lakecolor": "white",
           "landcolor": "#E5ECF6",
           "showlakes": true,
           "showland": true,
           "subunitcolor": "white"
          },
          "hoverlabel": {
           "align": "left"
          },
          "hovermode": "closest",
          "mapbox": {
           "style": "light"
          },
          "paper_bgcolor": "white",
          "plot_bgcolor": "#E5ECF6",
          "polar": {
           "angularaxis": {
            "gridcolor": "white",
            "linecolor": "white",
            "ticks": ""
           },
           "bgcolor": "#E5ECF6",
           "radialaxis": {
            "gridcolor": "white",
            "linecolor": "white",
            "ticks": ""
           }
          },
          "scene": {
           "xaxis": {
            "backgroundcolor": "#E5ECF6",
            "gridcolor": "white",
            "gridwidth": 2,
            "linecolor": "white",
            "showbackground": true,
            "ticks": "",
            "zerolinecolor": "white"
           },
           "yaxis": {
            "backgroundcolor": "#E5ECF6",
            "gridcolor": "white",
            "gridwidth": 2,
            "linecolor": "white",
            "showbackground": true,
            "ticks": "",
            "zerolinecolor": "white"
           },
           "zaxis": {
            "backgroundcolor": "#E5ECF6",
            "gridcolor": "white",
            "gridwidth": 2,
            "linecolor": "white",
            "showbackground": true,
            "ticks": "",
            "zerolinecolor": "white"
           }
          },
          "shapedefaults": {
           "line": {
            "color": "#2a3f5f"
           }
          },
          "ternary": {
           "aaxis": {
            "gridcolor": "white",
            "linecolor": "white",
            "ticks": ""
           },
           "baxis": {
            "gridcolor": "white",
            "linecolor": "white",
            "ticks": ""
           },
           "bgcolor": "#E5ECF6",
           "caxis": {
            "gridcolor": "white",
            "linecolor": "white",
            "ticks": ""
           }
          },
          "title": {
           "x": 0.05
          },
          "xaxis": {
           "automargin": true,
           "gridcolor": "white",
           "linecolor": "white",
           "ticks": "",
           "title": {
            "standoff": 15
           },
           "zerolinecolor": "white",
           "zerolinewidth": 2
          },
          "yaxis": {
           "automargin": true,
           "gridcolor": "white",
           "linecolor": "white",
           "ticks": "",
           "title": {
            "standoff": 15
           },
           "zerolinecolor": "white",
           "zerolinewidth": 2
          }
         }
        },
        "title": {
         "text": "All Box Score Statistics from 20 Games"
        },
        "width": 1000
       }
      }
     },
     "metadata": {},
     "output_type": "display_data"
    }
   ],
   "source": [
    "data = create_output_table(data=df_raw_box_score, full=True)\n",
    "\n",
    "for col_name, col_values in data.items():\n",
    "    if col_name in ['FG%', '2P%', '3P%', 'FT%']:\n",
    "        data[col_name] = col_values * 100\n",
    "        data[col_name] = data[col_name].map('{:,.1f}%'.format)\n",
    "    else:\n",
    "        data[col_name] = data[col_name].map('{:,.0f}'.format)\n",
    "\n",
    "create_plotly_table(data=data, name='full_output', title='All Box Score Statistics from 20 Games')"
   ]
  },
  {
   "attachments": {},
   "cell_type": "markdown",
   "id": "02b8cd83",
   "metadata": {},
   "source": [
    "## Graphs"
   ]
  },
  {
   "cell_type": "code",
   "execution_count": 508,
   "id": "e7c8122a",
   "metadata": {},
   "outputs": [],
   "source": [
    "def create_line_plot(data, data_elite, var, var_name_new, y_axis_range):\n",
    "    \"\"\"\n",
    "    Creates a line plot for the given variable.\n",
    "    \n",
    "    Parameters\n",
    "    ----------\n",
    "    data: pd.DataFrame\n",
    "        The results from 20 games of simulated games\n",
    "        \n",
    "    data_elite: pd.DataFrame\n",
    "        A dataframe with only the observations coming from elite players, for this measure\n",
    "        \n",
    "    var: str\n",
    "        The name of the string in data\n",
    "        \n",
    "    var_new_name: str\n",
    "        The tidy version of the name of the string in data\n",
    "        \n",
    "    y_axis_range: tuple of int or tuple of float\n",
    "        A tuple with the min and max value for the graph\n",
    "    \n",
    "    Returns \n",
    "    ----------\n",
    "    plot: matplotlib\n",
    "        The line graph\n",
    "    \"\"\"\n",
    "    # Change the variable name to the better one\n",
    "    data_elite[var_name_new] = data_elite[var]\n",
    "    \n",
    "    # Add 'Game' to the output \n",
    "    data['Game'] = range(1, 21)\n",
    "    \n",
    "    # Create plot\n",
    "    plt.plot(data['Game'], data[var_name_new], 'green')\n",
    "    \n",
    "    # Add labels to plot, set y-axis\n",
    "    plt.suptitle(f'{var_name_new}\\n(over 20 games, compared to mean for an elite player.)',\n",
    "                fontsize=15)\n",
    "    plt.xlabel('Game #')\n",
    "    plt.ylabel(var_name_new)\n",
    "    plt.ylim([y_axis_range[0], y_axis_range[1]])\n",
    "    \n",
    "    # Add horizontal line for mean value\n",
    "    elite_mean = statistics.mean(data_elite[var_name_new])\n",
    "    plt.axhline(y=elite_mean,\n",
    "                color='r', \n",
    "                linestyle='-')\n",
    "    \n",
    "    # Make axises look better\n",
    "    plt.xticks(np.arange(1, 20+1, step=1))\n",
    "    \n",
    "    # Save\n",
    "    plt.rcParams['axes.facecolor']='white'\n",
    "    plt.rcParams['savefig.facecolor']='white'\n",
    "    plt.tight_layout()\n",
    "    \n",
    "    plt.savefig(f\"data-viz/{var_name_new}.png\", dpi=800, bbox_inches='tight')\n",
    "    return plt.show()"
   ]
  },
  {
   "cell_type": "code",
   "execution_count": 509,
   "id": "ef99071f",
   "metadata": {},
   "outputs": [
    {
     "data": {
      "image/png": "[encoded data removed]",
      "text/plain": [
       "<Figure size 640x480 with 1 Axes>"
      ]
     },
     "metadata": {},
     "output_type": "display_data"
    }
   ],
   "source": [
    "var_name_old='pts'\n",
    "var_name_new='Points'\n",
    "create_line_plot(data=create_output_table(data=df_raw_box_score, full=True),\n",
    "                 data_elite=find_elite_player_seasons(df=df, variable_of_interest=var_name_old, lower_bound=95, upper_bound=100), \n",
    "                 var=var_name_old, \n",
    "                 var_name_new=var_name_new, \n",
    "                 y_axis_range=(0, 70))"
   ]
  },
  {
   "cell_type": "code",
   "execution_count": 510,
   "id": "04cb0042",
   "metadata": {},
   "outputs": [
    {
     "data": {
      "image/png": "[encoded data removed]",
      "text/plain": [
       "<Figure size 640x480 with 1 Axes>"
      ]
     },
     "metadata": {},
     "output_type": "display_data"
    }
   ],
   "source": [
    "var_name_old='trb'\n",
    "var_name_new='Rebounds'\n",
    "create_line_plot(data=create_output_table(data=df_raw_box_score, full=True),\n",
    "                 data_elite=find_elite_player_seasons(df=df, variable_of_interest=var_name_old, lower_bound=95, upper_bound=100), \n",
    "                 var=var_name_old, \n",
    "                 var_name_new=var_name_new, \n",
    "                 y_axis_range=(0, 25))"
   ]
  },
  {
   "cell_type": "code",
   "execution_count": 511,
   "id": "c7832b94",
   "metadata": {},
   "outputs": [
    {
     "data": {
      "image/png": "[encoded data removed]",
      "text/plain": [
       "<Figure size 640x480 with 1 Axes>"
      ]
     },
     "metadata": {},
     "output_type": "display_data"
    }
   ],
   "source": [
    "var_name_old='ast'\n",
    "var_name_new='Assists'\n",
    "create_line_plot(data=create_output_table(data=df_raw_box_score, full=True),\n",
    "                 data_elite=find_elite_player_seasons(df=df, variable_of_interest=var_name_old, lower_bound=95, upper_bound=100), \n",
    "                 var=var_name_old, \n",
    "                 var_name_new=var_name_new, \n",
    "                 y_axis_range=(0, 15))"
   ]
  },
  {
   "cell_type": "code",
   "execution_count": 512,
   "id": "4c7e3590",
   "metadata": {},
   "outputs": [],
   "source": [
    "def create_grouped_bar_graph(df_simulated_box_scores, data):\n",
    "    \"\"\"\n",
    "    Creates a bar plot for comparing each variable - 20 Games output vs Elite's mean.\n",
    "    \n",
    "    Parameters\n",
    "    ----------\n",
    "    df_simulated_box_scores: pd.DataFrame\n",
    "        The results from 20 games of simulated games\n",
    "        \n",
    "    data: pd.DataFrame\n",
    "        A dataframe with all box score data \n",
    "    \n",
    "    Returns \n",
    "    ----------\n",
    "    plot: matplotlib\n",
    "        The bar graph\n",
    "    \"\"\"\n",
    "    name_mapper = {\n",
    "               \"tidy\": {\"pts\" : 'Points',\n",
    "                        \"trb\": 'Rebounds',\n",
    "                        \"ast\": 'Assists',\n",
    "                        \"stl\": 'Steals',\n",
    "                        \"blk\": 'Blocks',\n",
    "                        \"fg\": 'FG Made',\n",
    "                        \"fga\": 'FG Att.',\n",
    "                        \"fg_pct\": 'FG%',\n",
    "                        \"three_p\": '3P Made',\n",
    "                        \"three_pa\": '3P Att.',\n",
    "                        \"three_p_pct\": '3P%',\n",
    "                        \"ft\": 'FT Made',\n",
    "                        \"fta\": 'FT Att.',\n",
    "                        \"ft_pct\": 'FT%',\n",
    "                        \"tov\": 'Turnovers', \n",
    "                         }}\n",
    "    \n",
    "    # Initialize Plot Data\n",
    "    plot_data = {\n",
    "        'Hypothetical Player': {},\n",
    "        'Elite Players': {}\n",
    "    }\n",
    "\n",
    "    #### Run function to get values for player's 20 games ####\n",
    "    player_data = create_output_table(data=df_simulated_box_scores, full=True)\n",
    "\n",
    "    # Drop columns that are not in the box score data\n",
    "    player_data.drop(['2P Made', '2P Att.', '2P%', 'Assist/TO Ratio'], axis=1, inplace=True)\n",
    "\n",
    "    # Loop over and add to plot_data\n",
    "    for (col_name, col_data) in player_data.items():\n",
    "        mean_value = statistics.mean(col_data)\n",
    "        plot_data['Hypothetical Player'][col_name] = mean_value\n",
    "\n",
    "\n",
    "    #### Loop over variables to get mean values ####\n",
    "    variables = list(plot_data['Hypothetical Player'].keys())\n",
    "    \n",
    "    for col_name in variables:\n",
    "        # 0. Quick fix for FT%\n",
    "        if col_name == \"FT%\":\n",
    "            plot_data['Elite Players'][col_name] = 1\n",
    "            continue\n",
    "        # 1. Slices a box score dataset to only have elite player seasons games in it.\n",
    "        df_elite_player_seasons = find_elite_player_seasons(df=data.rename(columns=name_mapper['tidy']),\n",
    "                                                            variable_of_interest=col_name,\n",
    "                                                            lower_bound=95,\n",
    "                                                            upper_bound=100)\n",
    "\n",
    "        # 2. Remove NA values from the column of interest\n",
    "        column_values_no_nas = [float(x) for x in df_elite_player_seasons[col_name] if str(x) != 'nan']\n",
    "\n",
    "        # 3. Grabs mean value from this elite group\n",
    "        mean_value = statistics.mean(column_values_no_nas)\n",
    "\n",
    "        # 4. appends to plot data\n",
    "        plot_data['Elite Players'][col_name] = mean_value\n",
    "\n",
    "    #### Create plot ####\n",
    "    \n",
    "    # Get data into dataframe\n",
    "    df_plot_data = pd.DataFrame(plot_data).reset_index()\n",
    "\n",
    "    # Go from wide format to long format\n",
    "    list_of_id_vars = ['Hypothetical Player', 'Elite Players']\n",
    "    opposites_list = [x for x in df_plot_data.columns if x not in list_of_id_vars]\n",
    "    df_long_format = df_plot_data.melt(id_vars=opposites_list)\n",
    "    \n",
    "    # Plot\n",
    "    g = sns.catplot(\n",
    "        data=df_long_format, \n",
    "        kind=\"bar\",\n",
    "        x=\"value\", \n",
    "        y=\"index\", \n",
    "        hue=\"variable\",\n",
    "        ci=\"sd\", \n",
    "        palette=\"tab10\", \n",
    "        alpha=.6, \n",
    "        height=6\n",
    "    )\n",
    "\n",
    "    g.despine(left=True, bottom=True)\n",
    "    g.set_axis_labels(\"Value\", \"Box Score Statistic\")\n",
    "    g.legend.set_title(\"Legend\")\n",
    "    g.set(title='Comparing Measures \\nBetween hypothetical player and Elite Group (95-99%)')\n",
    "    \n",
    "    # Save\n",
    "    plt.rcParams['axes.facecolor']='white'\n",
    "    plt.rcParams['savefig.facecolor']='white'\n",
    "    plt.tight_layout()\n",
    "    plt.savefig(f'data-viz/GroupedBarGraph.png', dpi=800, bbox_inches='tight')\n",
    "    return plt.show()"
   ]
  },
  {
   "cell_type": "code",
   "execution_count": 513,
   "id": "776187b4",
   "metadata": {},
   "outputs": [
    {
     "data": {
      "image/png": "[encoded data removed]",
      "text/plain": [
       "<Figure size 786x600 with 1 Axes>"
      ]
     },
     "metadata": {},
     "output_type": "display_data"
    }
   ],
   "source": [
    "plot = create_grouped_bar_graph(df_simulated_box_scores=df_raw_box_score,\n",
    "                         data=df\n",
    "                        )\n",
    "plot"
   ]
  },
  {
   "cell_type": "code",
   "execution_count": 514,
   "id": "1a574e4c",
   "metadata": {},
   "outputs": [
    {
     "name": "stdout",
     "output_type": "stream",
     "text": [
      "Done!\n"
     ]
    }
   ],
   "source": [
    "print(\"Done!\")"
   ]
  }
 ],
 "metadata": {
  "kernelspec": {
   "display_name": "Python 3",
   "language": "python",
   "name": "python3"
  },
  "language_info": {
   "codemirror_mode": {
    "name": "ipython",
    "version": 3
   },
   "file_extension": ".py",
   "mimetype": "text/x-python",
   "name": "python",
   "nbconvert_exporter": "python",
   "pygments_lexer": "ipython3",
   "version": "3.11.3"
  }
 },
 "nbformat": 4,
 "nbformat_minor": 5
}
